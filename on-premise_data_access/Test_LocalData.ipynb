{
 "cells": [
  {
   "cell_type": "markdown",
   "metadata": {},
   "source": [
    "# Local Data Tests"
   ]
  },
  {
   "cell_type": "markdown",
   "metadata": {},
   "source": [
    "### Import Modules"
   ]
  },
  {
   "cell_type": "code",
   "execution_count": 1,
   "metadata": {},
   "outputs": [],
   "source": [
    "import numpy as np\n",
    "import xarray as xr\n",
    "import timeit\n",
    "import matplotlib.pyplot as plt\n",
    "from dask.distributed import Client"
   ]
  },
  {
   "cell_type": "markdown",
   "metadata": {},
   "source": [
    "## Setup for Global Tests"
   ]
  },
  {
   "cell_type": "markdown",
   "metadata": {},
   "source": [
    "### Open MUR Global Dataset"
   ]
  },
  {
   "cell_type": "code",
   "execution_count": null,
   "metadata": {},
   "outputs": [],
   "source": [
    "start_time = timeit.default_timer()\n",
    "\n",
    "mur_global = xr.open_mfdataset(\n",
    "    '../data/podaac_web_global/*.nc4', \n",
    "    engine='netcdf4',\n",
    "    chunks={\"time\": 30, \"lat\": 100, \"lon\": 100}\n",
    ")\n",
    "\n",
    "elapsed = timeit.default_timer() - start_time\n",
    "print(elapsed)"
   ]
  },
  {
   "cell_type": "code",
   "execution_count": null,
   "metadata": {},
   "outputs": [],
   "source": [
    "mur_global"
   ]
  },
  {
   "cell_type": "markdown",
   "metadata": {},
   "source": [
    "### Add in NAN Values for Land to MUR Data\n",
    "<br/>\n",
    "We use the mask dimension to replace temperature values from land observations with NaN so that they are not factored in to our calculations. The mask variable has a value for each coordinate pair representing which surface the temperature was collected from (land, open-sea, ice, etc.)."
   ]
  },
  {
   "cell_type": "code",
   "execution_count": null,
   "metadata": {},
   "outputs": [],
   "source": [
    "mur_global_sst = mur_global['analysed_sst'].where(mur.mask == 1)"
   ]
  },
  {
   "cell_type": "markdown",
   "metadata": {},
   "source": [
    "### Convert Temperatures to Celsius\n",
    "<br/>\n",
    "The dataset is stored with temperatures measured in Kelvin. This converts it to Celsius for ease of understanding and analysis."
   ]
  },
  {
   "cell_type": "code",
   "execution_count": null,
   "metadata": {},
   "outputs": [],
   "source": [
    "mur_global_sst = mur_global_sst - 273.15"
   ]
  },
  {
   "cell_type": "code",
   "execution_count": null,
   "metadata": {},
   "outputs": [],
   "source": [
    "mur_global_sst"
   ]
  },
  {
   "cell_type": "markdown",
   "metadata": {},
   "source": [
    "### Find Daily Average Temperature for Time Series"
   ]
  },
  {
   "cell_type": "code",
   "execution_count": null,
   "metadata": {},
   "outputs": [],
   "source": [
    "mur_global_sst_mean_ts = mur_global_sst.mean(['lat', 'lon'])"
   ]
  },
  {
   "cell_type": "markdown",
   "metadata": {},
   "source": [
    "### Find Average Temperature for Each Coordinate Pair for Spatial Plot"
   ]
  },
  {
   "cell_type": "code",
   "execution_count": null,
   "metadata": {},
   "outputs": [],
   "source": [
    "mur_global_sst_mean_sp = mur_global_sst.mean(['time'])"
   ]
  },
  {
   "cell_type": "markdown",
   "metadata": {},
   "source": [
    "## Global Tests"
   ]
  },
  {
   "cell_type": "markdown",
   "metadata": {},
   "source": [
    "### Global SST Averaged Time Series"
   ]
  },
  {
   "cell_type": "code",
   "execution_count": null,
   "metadata": {},
   "outputs": [],
   "source": [
    "start_time = timeit.default_timer()\n",
    "\n",
    "mur_global_sst_mean_ts.plot()\n",
    "\n",
    "elapsed = timeit.default_timer() - start_time\n",
    "print(elapsed)"
   ]
  },
  {
   "cell_type": "markdown",
   "metadata": {},
   "source": [
    "### Global SST Averaged Spatial Plot"
   ]
  },
  {
   "cell_type": "code",
   "execution_count": null,
   "metadata": {},
   "outputs": [],
   "source": [
    "start_time = timeit.default_timer()\n",
    "\n",
    "mur_global_sst_mean_sp.plot()\n",
    "\n",
    "elapsed = timeit.default_timer() - start_time\n",
    "print(elapsed)"
   ]
  },
  {
   "cell_type": "markdown",
   "metadata": {},
   "source": [
    "## Setup for Regional Tests"
   ]
  },
  {
   "cell_type": "code",
   "execution_count": null,
   "metadata": {},
   "outputs": [],
   "source": [
    "start_time = timeit.default_timer()\n",
    "\n",
    "mur_hawaii = xr.open_mfdataset(\n",
    "    '../data/podaac_web_hawaii/*.nc4', \n",
    "    engine='netcdf4',\n",
    "    chunks={\"time\": 30, \"lat\": 100, \"lon\": 100}\n",
    ")\n",
    "\n",
    "elapsed = timeit.default_timer() - start_time\n",
    "print(elapsed)"
   ]
  },
  {
   "cell_type": "code",
   "execution_count": null,
   "metadata": {},
   "outputs": [],
   "source": [
    "mur_hawaii"
   ]
  },
  {
   "cell_type": "markdown",
   "metadata": {},
   "source": [
    "### Add in NAN Values for Land to MUR Data\n",
    "<br/>\n",
    "We use the mask dimension to replace temperature values from land observations with NaN so that they are not factored in to our calculations. The mask variable has a value for each coordinate pair representing which surface the temperature was collected from (land, open-sea, ice, etc.)."
   ]
  },
  {
   "cell_type": "code",
   "execution_count": 22,
   "metadata": {},
   "outputs": [],
   "source": [
    "mur_hawaii_sst = mur_hawaii['analysed_sst'].where(mur_hawaii.mask == 1)"
   ]
  },
  {
   "cell_type": "markdown",
   "metadata": {},
   "source": [
    "### Convert Temperatures to Celsius\n",
    "<br/>\n",
    "The dataset is stored with temperatures measured in Kelvin. This converts it to Celsius for ease of understanding and analysis."
   ]
  },
  {
   "cell_type": "code",
   "execution_count": 23,
   "metadata": {},
   "outputs": [],
   "source": [
    "mur_hawaii_sst = mur_hawaii_sst - 273.15"
   ]
  },
  {
   "cell_type": "markdown",
   "metadata": {},
   "source": [
    "### Open MUR Climatology for Hawaii"
   ]
  },
  {
   "cell_type": "code",
   "execution_count": null,
   "metadata": {},
   "outputs": [],
   "source": [
    "mur_clim = xr.open_dataarray(\n",
    "    \"../data/MURClimatology.nc\", \n",
    "    chunks={\"time\": 30, \"lat\": 100, \"lon\": 100}\n",
    ")"
   ]
  },
  {
   "cell_type": "code",
   "execution_count": null,
   "metadata": {},
   "outputs": [],
   "source": [
    "mur_clim"
   ]
  },
  {
   "cell_type": "markdown",
   "metadata": {},
   "source": [
    "### Drop the Leap Day"
   ]
  },
  {
   "cell_type": "code",
   "execution_count": null,
   "metadata": {},
   "outputs": [],
   "source": [
    "mur_clim = mur_clim.where(mur_clim[\"time\"] != np.datetime64('2004-02-29T09:00:00', 'ns'), drop=True)"
   ]
  },
  {
   "cell_type": "markdown",
   "metadata": {},
   "source": [
    "### Create Subset"
   ]
  },
  {
   "cell_type": "code",
   "execution_count": 39,
   "metadata": {},
   "outputs": [],
   "source": [
    "mur_clim_jan = mur_clim[0:20]"
   ]
  },
  {
   "cell_type": "code",
   "execution_count": 40,
   "metadata": {},
   "outputs": [],
   "source": [
    "mur_clim_subset = mur_clim[212:]"
   ]
  },
  {
   "cell_type": "code",
   "execution_count": 41,
   "metadata": {},
   "outputs": [],
   "source": [
    "mur_clim_subset = xr.concat([mur_clim_subset, mur_clim_jan], dim=\"time\")"
   ]
  },
  {
   "cell_type": "code",
   "execution_count": 43,
   "metadata": {},
   "outputs": [],
   "source": [
    "mur_clim_subset = mur_clim_subset.assign_coords({\"time\": mur_hawaii_sst[\"time\"]})"
   ]
  },
  {
   "cell_type": "code",
   "execution_count": 44,
   "metadata": {
    "scrolled": true
   },
   "outputs": [
    {
     "data": {
      "text/html": [
       "<div><svg style=\"position: absolute; width: 0; height: 0; overflow: hidden\">\n",
       "<defs>\n",
       "<symbol id=\"icon-database\" viewBox=\"0 0 32 32\">\n",
       "<path d=\"M16 0c-8.837 0-16 2.239-16 5v4c0 2.761 7.163 5 16 5s16-2.239 16-5v-4c0-2.761-7.163-5-16-5z\"></path>\n",
       "<path d=\"M16 17c-8.837 0-16-2.239-16-5v6c0 2.761 7.163 5 16 5s16-2.239 16-5v-6c0 2.761-7.163 5-16 5z\"></path>\n",
       "<path d=\"M16 26c-8.837 0-16-2.239-16-5v6c0 2.761 7.163 5 16 5s16-2.239 16-5v-6c0 2.761-7.163 5-16 5z\"></path>\n",
       "</symbol>\n",
       "<symbol id=\"icon-file-text2\" viewBox=\"0 0 32 32\">\n",
       "<path d=\"M28.681 7.159c-0.694-0.947-1.662-2.053-2.724-3.116s-2.169-2.030-3.116-2.724c-1.612-1.182-2.393-1.319-2.841-1.319h-15.5c-1.378 0-2.5 1.121-2.5 2.5v27c0 1.378 1.122 2.5 2.5 2.5h23c1.378 0 2.5-1.122 2.5-2.5v-19.5c0-0.448-0.137-1.23-1.319-2.841zM24.543 5.457c0.959 0.959 1.712 1.825 2.268 2.543h-4.811v-4.811c0.718 0.556 1.584 1.309 2.543 2.268zM28 29.5c0 0.271-0.229 0.5-0.5 0.5h-23c-0.271 0-0.5-0.229-0.5-0.5v-27c0-0.271 0.229-0.5 0.5-0.5 0 0 15.499-0 15.5 0v7c0 0.552 0.448 1 1 1h7v19.5z\"></path>\n",
       "<path d=\"M23 26h-14c-0.552 0-1-0.448-1-1s0.448-1 1-1h14c0.552 0 1 0.448 1 1s-0.448 1-1 1z\"></path>\n",
       "<path d=\"M23 22h-14c-0.552 0-1-0.448-1-1s0.448-1 1-1h14c0.552 0 1 0.448 1 1s-0.448 1-1 1z\"></path>\n",
       "<path d=\"M23 18h-14c-0.552 0-1-0.448-1-1s0.448-1 1-1h14c0.552 0 1 0.448 1 1s-0.448 1-1 1z\"></path>\n",
       "</symbol>\n",
       "</defs>\n",
       "</svg>\n",
       "<style>/* CSS stylesheet for displaying xarray objects in jupyterlab.\n",
       " *\n",
       " */\n",
       "\n",
       ":root {\n",
       "  --xr-font-color0: var(--jp-content-font-color0, rgba(0, 0, 0, 1));\n",
       "  --xr-font-color2: var(--jp-content-font-color2, rgba(0, 0, 0, 0.54));\n",
       "  --xr-font-color3: var(--jp-content-font-color3, rgba(0, 0, 0, 0.38));\n",
       "  --xr-border-color: var(--jp-border-color2, #e0e0e0);\n",
       "  --xr-disabled-color: var(--jp-layout-color3, #bdbdbd);\n",
       "  --xr-background-color: var(--jp-layout-color0, white);\n",
       "  --xr-background-color-row-even: var(--jp-layout-color1, white);\n",
       "  --xr-background-color-row-odd: var(--jp-layout-color2, #eeeeee);\n",
       "}\n",
       "\n",
       "html[theme=dark],\n",
       "body.vscode-dark {\n",
       "  --xr-font-color0: rgba(255, 255, 255, 1);\n",
       "  --xr-font-color2: rgba(255, 255, 255, 0.54);\n",
       "  --xr-font-color3: rgba(255, 255, 255, 0.38);\n",
       "  --xr-border-color: #1F1F1F;\n",
       "  --xr-disabled-color: #515151;\n",
       "  --xr-background-color: #111111;\n",
       "  --xr-background-color-row-even: #111111;\n",
       "  --xr-background-color-row-odd: #313131;\n",
       "}\n",
       "\n",
       ".xr-wrap {\n",
       "  display: block;\n",
       "  min-width: 300px;\n",
       "  max-width: 700px;\n",
       "}\n",
       "\n",
       ".xr-text-repr-fallback {\n",
       "  /* fallback to plain text repr when CSS is not injected (untrusted notebook) */\n",
       "  display: none;\n",
       "}\n",
       "\n",
       ".xr-header {\n",
       "  padding-top: 6px;\n",
       "  padding-bottom: 6px;\n",
       "  margin-bottom: 4px;\n",
       "  border-bottom: solid 1px var(--xr-border-color);\n",
       "}\n",
       "\n",
       ".xr-header > div,\n",
       ".xr-header > ul {\n",
       "  display: inline;\n",
       "  margin-top: 0;\n",
       "  margin-bottom: 0;\n",
       "}\n",
       "\n",
       ".xr-obj-type,\n",
       ".xr-array-name {\n",
       "  margin-left: 2px;\n",
       "  margin-right: 10px;\n",
       "}\n",
       "\n",
       ".xr-obj-type {\n",
       "  color: var(--xr-font-color2);\n",
       "}\n",
       "\n",
       ".xr-sections {\n",
       "  padding-left: 0 !important;\n",
       "  display: grid;\n",
       "  grid-template-columns: 150px auto auto 1fr 20px 20px;\n",
       "}\n",
       "\n",
       ".xr-section-item {\n",
       "  display: contents;\n",
       "}\n",
       "\n",
       ".xr-section-item input {\n",
       "  display: none;\n",
       "}\n",
       "\n",
       ".xr-section-item input + label {\n",
       "  color: var(--xr-disabled-color);\n",
       "}\n",
       "\n",
       ".xr-section-item input:enabled + label {\n",
       "  cursor: pointer;\n",
       "  color: var(--xr-font-color2);\n",
       "}\n",
       "\n",
       ".xr-section-item input:enabled + label:hover {\n",
       "  color: var(--xr-font-color0);\n",
       "}\n",
       "\n",
       ".xr-section-summary {\n",
       "  grid-column: 1;\n",
       "  color: var(--xr-font-color2);\n",
       "  font-weight: 500;\n",
       "}\n",
       "\n",
       ".xr-section-summary > span {\n",
       "  display: inline-block;\n",
       "  padding-left: 0.5em;\n",
       "}\n",
       "\n",
       ".xr-section-summary-in:disabled + label {\n",
       "  color: var(--xr-font-color2);\n",
       "}\n",
       "\n",
       ".xr-section-summary-in + label:before {\n",
       "  display: inline-block;\n",
       "  content: '►';\n",
       "  font-size: 11px;\n",
       "  width: 15px;\n",
       "  text-align: center;\n",
       "}\n",
       "\n",
       ".xr-section-summary-in:disabled + label:before {\n",
       "  color: var(--xr-disabled-color);\n",
       "}\n",
       "\n",
       ".xr-section-summary-in:checked + label:before {\n",
       "  content: '▼';\n",
       "}\n",
       "\n",
       ".xr-section-summary-in:checked + label > span {\n",
       "  display: none;\n",
       "}\n",
       "\n",
       ".xr-section-summary,\n",
       ".xr-section-inline-details {\n",
       "  padding-top: 4px;\n",
       "  padding-bottom: 4px;\n",
       "}\n",
       "\n",
       ".xr-section-inline-details {\n",
       "  grid-column: 2 / -1;\n",
       "}\n",
       "\n",
       ".xr-section-details {\n",
       "  display: none;\n",
       "  grid-column: 1 / -1;\n",
       "  margin-bottom: 5px;\n",
       "}\n",
       "\n",
       ".xr-section-summary-in:checked ~ .xr-section-details {\n",
       "  display: contents;\n",
       "}\n",
       "\n",
       ".xr-array-wrap {\n",
       "  grid-column: 1 / -1;\n",
       "  display: grid;\n",
       "  grid-template-columns: 20px auto;\n",
       "}\n",
       "\n",
       ".xr-array-wrap > label {\n",
       "  grid-column: 1;\n",
       "  vertical-align: top;\n",
       "}\n",
       "\n",
       ".xr-preview {\n",
       "  color: var(--xr-font-color3);\n",
       "}\n",
       "\n",
       ".xr-array-preview,\n",
       ".xr-array-data {\n",
       "  padding: 0 5px !important;\n",
       "  grid-column: 2;\n",
       "}\n",
       "\n",
       ".xr-array-data,\n",
       ".xr-array-in:checked ~ .xr-array-preview {\n",
       "  display: none;\n",
       "}\n",
       "\n",
       ".xr-array-in:checked ~ .xr-array-data,\n",
       ".xr-array-preview {\n",
       "  display: inline-block;\n",
       "}\n",
       "\n",
       ".xr-dim-list {\n",
       "  display: inline-block !important;\n",
       "  list-style: none;\n",
       "  padding: 0 !important;\n",
       "  margin: 0;\n",
       "}\n",
       "\n",
       ".xr-dim-list li {\n",
       "  display: inline-block;\n",
       "  padding: 0;\n",
       "  margin: 0;\n",
       "}\n",
       "\n",
       ".xr-dim-list:before {\n",
       "  content: '(';\n",
       "}\n",
       "\n",
       ".xr-dim-list:after {\n",
       "  content: ')';\n",
       "}\n",
       "\n",
       ".xr-dim-list li:not(:last-child):after {\n",
       "  content: ',';\n",
       "  padding-right: 5px;\n",
       "}\n",
       "\n",
       ".xr-has-index {\n",
       "  font-weight: bold;\n",
       "}\n",
       "\n",
       ".xr-var-list,\n",
       ".xr-var-item {\n",
       "  display: contents;\n",
       "}\n",
       "\n",
       ".xr-var-item > div,\n",
       ".xr-var-item label,\n",
       ".xr-var-item > .xr-var-name span {\n",
       "  background-color: var(--xr-background-color-row-even);\n",
       "  margin-bottom: 0;\n",
       "}\n",
       "\n",
       ".xr-var-item > .xr-var-name:hover span {\n",
       "  padding-right: 5px;\n",
       "}\n",
       "\n",
       ".xr-var-list > li:nth-child(odd) > div,\n",
       ".xr-var-list > li:nth-child(odd) > label,\n",
       ".xr-var-list > li:nth-child(odd) > .xr-var-name span {\n",
       "  background-color: var(--xr-background-color-row-odd);\n",
       "}\n",
       "\n",
       ".xr-var-name {\n",
       "  grid-column: 1;\n",
       "}\n",
       "\n",
       ".xr-var-dims {\n",
       "  grid-column: 2;\n",
       "}\n",
       "\n",
       ".xr-var-dtype {\n",
       "  grid-column: 3;\n",
       "  text-align: right;\n",
       "  color: var(--xr-font-color2);\n",
       "}\n",
       "\n",
       ".xr-var-preview {\n",
       "  grid-column: 4;\n",
       "}\n",
       "\n",
       ".xr-var-name,\n",
       ".xr-var-dims,\n",
       ".xr-var-dtype,\n",
       ".xr-preview,\n",
       ".xr-attrs dt {\n",
       "  white-space: nowrap;\n",
       "  overflow: hidden;\n",
       "  text-overflow: ellipsis;\n",
       "  padding-right: 10px;\n",
       "}\n",
       "\n",
       ".xr-var-name:hover,\n",
       ".xr-var-dims:hover,\n",
       ".xr-var-dtype:hover,\n",
       ".xr-attrs dt:hover {\n",
       "  overflow: visible;\n",
       "  width: auto;\n",
       "  z-index: 1;\n",
       "}\n",
       "\n",
       ".xr-var-attrs,\n",
       ".xr-var-data {\n",
       "  display: none;\n",
       "  background-color: var(--xr-background-color) !important;\n",
       "  padding-bottom: 5px !important;\n",
       "}\n",
       "\n",
       ".xr-var-attrs-in:checked ~ .xr-var-attrs,\n",
       ".xr-var-data-in:checked ~ .xr-var-data {\n",
       "  display: block;\n",
       "}\n",
       "\n",
       ".xr-var-data > table {\n",
       "  float: right;\n",
       "}\n",
       "\n",
       ".xr-var-name span,\n",
       ".xr-var-data,\n",
       ".xr-attrs {\n",
       "  padding-left: 25px !important;\n",
       "}\n",
       "\n",
       ".xr-attrs,\n",
       ".xr-var-attrs,\n",
       ".xr-var-data {\n",
       "  grid-column: 1 / -1;\n",
       "}\n",
       "\n",
       "dl.xr-attrs {\n",
       "  padding: 0;\n",
       "  margin: 0;\n",
       "  display: grid;\n",
       "  grid-template-columns: 125px auto;\n",
       "}\n",
       "\n",
       ".xr-attrs dt,\n",
       ".xr-attrs dd {\n",
       "  padding: 0;\n",
       "  margin: 0;\n",
       "  float: left;\n",
       "  padding-right: 10px;\n",
       "  width: auto;\n",
       "}\n",
       "\n",
       ".xr-attrs dt {\n",
       "  font-weight: normal;\n",
       "  grid-column: 1;\n",
       "}\n",
       "\n",
       ".xr-attrs dt:hover span {\n",
       "  display: inline-block;\n",
       "  background: var(--xr-background-color);\n",
       "  padding-right: 10px;\n",
       "}\n",
       "\n",
       ".xr-attrs dd {\n",
       "  grid-column: 2;\n",
       "  white-space: pre-wrap;\n",
       "  word-break: break-all;\n",
       "}\n",
       "\n",
       ".xr-icon-database,\n",
       ".xr-icon-file-text2 {\n",
       "  display: inline-block;\n",
       "  vertical-align: middle;\n",
       "  width: 1em;\n",
       "  height: 1.5em !important;\n",
       "  stroke-width: 0;\n",
       "  stroke: currentColor;\n",
       "  fill: currentColor;\n",
       "}\n",
       "</style><pre class='xr-text-repr-fallback'>&lt;xarray.DataArray &#x27;sstclim&#x27; (time: 173, lat: 701, lon: 1001)&gt;\n",
       "dask.array&lt;concatenate, shape=(173, 701, 1001), dtype=float32, chunksize=(30, 100, 100), chunktype=numpy.ndarray&gt;\n",
       "Coordinates:\n",
       "  * lon      (lon) float32 -160.0 -160.0 -160.0 -160.0 ... -150.0 -150.0 -150.0\n",
       "  * lat      (lat) float32 18.0 18.01 18.02 18.03 ... 24.97 24.98 24.99 25.0\n",
       "  * time     (time) datetime64[ns] 2019-08-01T09:00:00 ... 2020-01-20T09:00:00\n",
       "Attributes:\n",
       "    description:  Hawaii Climatology from 2002-2015.\n",
       "    start_date:   01/01\n",
       "    end_date:     12/31\n",
       "    units:        degC</pre><div class='xr-wrap' hidden><div class='xr-header'><div class='xr-obj-type'>xarray.DataArray</div><div class='xr-array-name'>'sstclim'</div><ul class='xr-dim-list'><li><span class='xr-has-index'>time</span>: 173</li><li><span class='xr-has-index'>lat</span>: 701</li><li><span class='xr-has-index'>lon</span>: 1001</li></ul></div><ul class='xr-sections'><li class='xr-section-item'><div class='xr-array-wrap'><input id='section-e48f2693-5ee4-470f-883b-4b53880c9945' class='xr-array-in' type='checkbox' checked><label for='section-e48f2693-5ee4-470f-883b-4b53880c9945' title='Show/hide data repr'><svg class='icon xr-icon-database'><use xlink:href='#icon-database'></use></svg></label><div class='xr-array-preview xr-preview'><span>dask.array&lt;chunksize=(27, 100, 100), meta=np.ndarray&gt;</span></div><div class='xr-array-data'><table>\n",
       "<tr>\n",
       "<td>\n",
       "<table>\n",
       "  <thead>\n",
       "    <tr><td> </td><th> Array </th><th> Chunk </th></tr>\n",
       "  </thead>\n",
       "  <tbody>\n",
       "    <tr><th> Bytes </th><td> 485.58 MB </td> <td> 1.20 MB </td></tr>\n",
       "    <tr><th> Shape </th><td> (173, 701, 1001) </td> <td> (30, 100, 100) </td></tr>\n",
       "    <tr><th> Count </th><td> 4692 Tasks </td><td> 616 Chunks </td></tr>\n",
       "    <tr><th> Type </th><td> float32 </td><td> numpy.ndarray </td></tr>\n",
       "  </tbody>\n",
       "</table>\n",
       "</td>\n",
       "<td>\n",
       "<svg width=\"204\" height=\"158\" style=\"stroke:rgb(0,0,0);stroke-width:1\" >\n",
       "\n",
       "  <!-- Horizontal lines -->\n",
       "  <line x1=\"10\" y1=\"0\" x2=\"34\" y2=\"24\" style=\"stroke-width:2\" />\n",
       "  <line x1=\"10\" y1=\"11\" x2=\"34\" y2=\"36\" />\n",
       "  <line x1=\"10\" y1=\"23\" x2=\"34\" y2=\"48\" />\n",
       "  <line x1=\"10\" y1=\"35\" x2=\"34\" y2=\"60\" />\n",
       "  <line x1=\"10\" y1=\"47\" x2=\"34\" y2=\"72\" />\n",
       "  <line x1=\"10\" y1=\"59\" x2=\"34\" y2=\"84\" />\n",
       "  <line x1=\"10\" y1=\"71\" x2=\"34\" y2=\"96\" />\n",
       "  <line x1=\"10\" y1=\"83\" x2=\"34\" y2=\"108\" />\n",
       "  <line x1=\"10\" y1=\"84\" x2=\"34\" y2=\"108\" style=\"stroke-width:2\" />\n",
       "\n",
       "  <!-- Vertical lines -->\n",
       "  <line x1=\"10\" y1=\"0\" x2=\"10\" y2=\"84\" style=\"stroke-width:2\" />\n",
       "  <line x1=\"13\" y1=\"3\" x2=\"13\" y2=\"87\" />\n",
       "  <line x1=\"18\" y1=\"8\" x2=\"18\" y2=\"92\" />\n",
       "  <line x1=\"22\" y1=\"12\" x2=\"22\" y2=\"96\" />\n",
       "  <line x1=\"26\" y1=\"16\" x2=\"26\" y2=\"100\" />\n",
       "  <line x1=\"30\" y1=\"20\" x2=\"30\" y2=\"104\" />\n",
       "  <line x1=\"31\" y1=\"21\" x2=\"31\" y2=\"105\" />\n",
       "  <line x1=\"34\" y1=\"24\" x2=\"34\" y2=\"108\" style=\"stroke-width:2\" />\n",
       "\n",
       "  <!-- Colored Rectangle -->\n",
       "  <polygon points=\"10.0,0.0 34.33524031493012,24.335240314930118 34.33524031493012,108.37120435089416 10.0,84.03596403596404\" style=\"fill:#ECB172A0;stroke-width:0\"/>\n",
       "\n",
       "  <!-- Horizontal lines -->\n",
       "  <line x1=\"10\" y1=\"0\" x2=\"130\" y2=\"0\" style=\"stroke-width:2\" />\n",
       "  <line x1=\"13\" y1=\"3\" x2=\"133\" y2=\"3\" />\n",
       "  <line x1=\"18\" y1=\"8\" x2=\"138\" y2=\"8\" />\n",
       "  <line x1=\"22\" y1=\"12\" x2=\"142\" y2=\"12\" />\n",
       "  <line x1=\"26\" y1=\"16\" x2=\"146\" y2=\"16\" />\n",
       "  <line x1=\"30\" y1=\"20\" x2=\"150\" y2=\"20\" />\n",
       "  <line x1=\"31\" y1=\"21\" x2=\"151\" y2=\"21\" />\n",
       "  <line x1=\"34\" y1=\"24\" x2=\"154\" y2=\"24\" style=\"stroke-width:2\" />\n",
       "\n",
       "  <!-- Vertical lines -->\n",
       "  <line x1=\"10\" y1=\"0\" x2=\"34\" y2=\"24\" style=\"stroke-width:2\" />\n",
       "  <line x1=\"21\" y1=\"0\" x2=\"46\" y2=\"24\" />\n",
       "  <line x1=\"33\" y1=\"0\" x2=\"58\" y2=\"24\" />\n",
       "  <line x1=\"45\" y1=\"0\" x2=\"70\" y2=\"24\" />\n",
       "  <line x1=\"57\" y1=\"0\" x2=\"82\" y2=\"24\" />\n",
       "  <line x1=\"69\" y1=\"0\" x2=\"94\" y2=\"24\" />\n",
       "  <line x1=\"81\" y1=\"0\" x2=\"106\" y2=\"24\" />\n",
       "  <line x1=\"93\" y1=\"0\" x2=\"118\" y2=\"24\" />\n",
       "  <line x1=\"105\" y1=\"0\" x2=\"130\" y2=\"24\" />\n",
       "  <line x1=\"117\" y1=\"0\" x2=\"142\" y2=\"24\" />\n",
       "  <line x1=\"129\" y1=\"0\" x2=\"154\" y2=\"24\" />\n",
       "  <line x1=\"130\" y1=\"0\" x2=\"154\" y2=\"24\" style=\"stroke-width:2\" />\n",
       "\n",
       "  <!-- Colored Rectangle -->\n",
       "  <polygon points=\"10.0,0.0 130.0,0.0 154.3352403149301,24.335240314930118 34.33524031493012,24.335240314930118\" style=\"fill:#ECB172A0;stroke-width:0\"/>\n",
       "\n",
       "  <!-- Horizontal lines -->\n",
       "  <line x1=\"34\" y1=\"24\" x2=\"154\" y2=\"24\" style=\"stroke-width:2\" />\n",
       "  <line x1=\"34\" y1=\"36\" x2=\"154\" y2=\"36\" />\n",
       "  <line x1=\"34\" y1=\"48\" x2=\"154\" y2=\"48\" />\n",
       "  <line x1=\"34\" y1=\"60\" x2=\"154\" y2=\"60\" />\n",
       "  <line x1=\"34\" y1=\"72\" x2=\"154\" y2=\"72\" />\n",
       "  <line x1=\"34\" y1=\"84\" x2=\"154\" y2=\"84\" />\n",
       "  <line x1=\"34\" y1=\"96\" x2=\"154\" y2=\"96\" />\n",
       "  <line x1=\"34\" y1=\"108\" x2=\"154\" y2=\"108\" />\n",
       "  <line x1=\"34\" y1=\"108\" x2=\"154\" y2=\"108\" style=\"stroke-width:2\" />\n",
       "\n",
       "  <!-- Vertical lines -->\n",
       "  <line x1=\"34\" y1=\"24\" x2=\"34\" y2=\"108\" style=\"stroke-width:2\" />\n",
       "  <line x1=\"46\" y1=\"24\" x2=\"46\" y2=\"108\" />\n",
       "  <line x1=\"58\" y1=\"24\" x2=\"58\" y2=\"108\" />\n",
       "  <line x1=\"70\" y1=\"24\" x2=\"70\" y2=\"108\" />\n",
       "  <line x1=\"82\" y1=\"24\" x2=\"82\" y2=\"108\" />\n",
       "  <line x1=\"94\" y1=\"24\" x2=\"94\" y2=\"108\" />\n",
       "  <line x1=\"106\" y1=\"24\" x2=\"106\" y2=\"108\" />\n",
       "  <line x1=\"118\" y1=\"24\" x2=\"118\" y2=\"108\" />\n",
       "  <line x1=\"130\" y1=\"24\" x2=\"130\" y2=\"108\" />\n",
       "  <line x1=\"142\" y1=\"24\" x2=\"142\" y2=\"108\" />\n",
       "  <line x1=\"154\" y1=\"24\" x2=\"154\" y2=\"108\" />\n",
       "  <line x1=\"154\" y1=\"24\" x2=\"154\" y2=\"108\" style=\"stroke-width:2\" />\n",
       "\n",
       "  <!-- Colored Rectangle -->\n",
       "  <polygon points=\"34.33524031493012,24.335240314930118 154.3352403149301,24.335240314930118 154.3352403149301,108.37120435089416 34.33524031493012,108.37120435089416\" style=\"fill:#ECB172A0;stroke-width:0\"/>\n",
       "\n",
       "  <!-- Text -->\n",
       "  <text x=\"94.335240\" y=\"128.371204\" font-size=\"1.0rem\" font-weight=\"100\" text-anchor=\"middle\" >1001</text>\n",
       "  <text x=\"174.335240\" y=\"66.353222\" font-size=\"1.0rem\" font-weight=\"100\" text-anchor=\"middle\" transform=\"rotate(-90,174.335240,66.353222)\">701</text>\n",
       "  <text x=\"12.167620\" y=\"116.203584\" font-size=\"1.0rem\" font-weight=\"100\" text-anchor=\"middle\" transform=\"rotate(45,12.167620,116.203584)\">173</text>\n",
       "</svg>\n",
       "</td>\n",
       "</tr>\n",
       "</table></div></div></li><li class='xr-section-item'><input id='section-9166b9a3-98cf-44cc-9b7c-f587d39ecc31' class='xr-section-summary-in' type='checkbox'  checked><label for='section-9166b9a3-98cf-44cc-9b7c-f587d39ecc31' class='xr-section-summary' >Coordinates: <span>(3)</span></label><div class='xr-section-inline-details'></div><div class='xr-section-details'><ul class='xr-var-list'><li class='xr-var-item'><div class='xr-var-name'><span class='xr-has-index'>lon</span></div><div class='xr-var-dims'>(lon)</div><div class='xr-var-dtype'>float32</div><div class='xr-var-preview xr-preview'>-160.0 -160.0 ... -150.0 -150.0</div><input id='attrs-22daeedb-aa3d-46e9-a3c0-a41c635d76c4' class='xr-var-attrs-in' type='checkbox' disabled><label for='attrs-22daeedb-aa3d-46e9-a3c0-a41c635d76c4' title='Show/Hide attributes'><svg class='icon xr-icon-file-text2'><use xlink:href='#icon-file-text2'></use></svg></label><input id='data-944862be-f98f-4fa2-a32f-6af6dec831a4' class='xr-var-data-in' type='checkbox'><label for='data-944862be-f98f-4fa2-a32f-6af6dec831a4' title='Show/Hide data repr'><svg class='icon xr-icon-database'><use xlink:href='#icon-database'></use></svg></label><div class='xr-var-attrs'><dl class='xr-attrs'></dl></div><div class='xr-var-data'><pre>array([-160.  , -159.99, -159.98, ..., -150.02, -150.01, -150.  ],\n",
       "      dtype=float32)</pre></div></li><li class='xr-var-item'><div class='xr-var-name'><span class='xr-has-index'>lat</span></div><div class='xr-var-dims'>(lat)</div><div class='xr-var-dtype'>float32</div><div class='xr-var-preview xr-preview'>18.0 18.01 18.02 ... 24.99 25.0</div><input id='attrs-76568310-4565-4dd3-850f-e7b3af2832b1' class='xr-var-attrs-in' type='checkbox' disabled><label for='attrs-76568310-4565-4dd3-850f-e7b3af2832b1' title='Show/Hide attributes'><svg class='icon xr-icon-file-text2'><use xlink:href='#icon-file-text2'></use></svg></label><input id='data-fafb65ba-7f8e-4624-bdb2-694bcdf2c4d1' class='xr-var-data-in' type='checkbox'><label for='data-fafb65ba-7f8e-4624-bdb2-694bcdf2c4d1' title='Show/Hide data repr'><svg class='icon xr-icon-database'><use xlink:href='#icon-database'></use></svg></label><div class='xr-var-attrs'><dl class='xr-attrs'></dl></div><div class='xr-var-data'><pre>array([18.  , 18.01, 18.02, ..., 24.98, 24.99, 25.  ], dtype=float32)</pre></div></li><li class='xr-var-item'><div class='xr-var-name'><span class='xr-has-index'>time</span></div><div class='xr-var-dims'>(time)</div><div class='xr-var-dtype'>datetime64[ns]</div><div class='xr-var-preview xr-preview'>2019-08-01T09:00:00 ... 2020-01-...</div><input id='attrs-ab339b8f-f443-4193-94cf-6bf7f7c079a2' class='xr-var-attrs-in' type='checkbox' ><label for='attrs-ab339b8f-f443-4193-94cf-6bf7f7c079a2' title='Show/Hide attributes'><svg class='icon xr-icon-file-text2'><use xlink:href='#icon-file-text2'></use></svg></label><input id='data-a912630d-e657-4499-9a30-c2252e56b6f2' class='xr-var-data-in' type='checkbox'><label for='data-a912630d-e657-4499-9a30-c2252e56b6f2' title='Show/Hide data repr'><svg class='icon xr-icon-database'><use xlink:href='#icon-database'></use></svg></label><div class='xr-var-attrs'><dl class='xr-attrs'><dt><span>axis :</span></dt><dd>T</dd><dt><span>comment :</span></dt><dd>Nominal time of analyzed fields</dd><dt><span>long_name :</span></dt><dd>reference time of sst field</dd><dt><span>standard_name :</span></dt><dd>time</dd></dl></div><div class='xr-var-data'><pre>array([&#x27;2019-08-01T09:00:00.000000000&#x27;, &#x27;2019-08-02T09:00:00.000000000&#x27;,\n",
       "       &#x27;2019-08-03T09:00:00.000000000&#x27;, &#x27;2019-08-04T09:00:00.000000000&#x27;,\n",
       "       &#x27;2019-08-05T09:00:00.000000000&#x27;, &#x27;2019-08-06T09:00:00.000000000&#x27;,\n",
       "       &#x27;2019-08-07T09:00:00.000000000&#x27;, &#x27;2019-08-08T09:00:00.000000000&#x27;,\n",
       "       &#x27;2019-08-09T09:00:00.000000000&#x27;, &#x27;2019-08-10T09:00:00.000000000&#x27;,\n",
       "       &#x27;2019-08-11T09:00:00.000000000&#x27;, &#x27;2019-08-12T09:00:00.000000000&#x27;,\n",
       "       &#x27;2019-08-13T09:00:00.000000000&#x27;, &#x27;2019-08-14T09:00:00.000000000&#x27;,\n",
       "       &#x27;2019-08-15T09:00:00.000000000&#x27;, &#x27;2019-08-16T09:00:00.000000000&#x27;,\n",
       "       &#x27;2019-08-17T09:00:00.000000000&#x27;, &#x27;2019-08-18T09:00:00.000000000&#x27;,\n",
       "       &#x27;2019-08-19T09:00:00.000000000&#x27;, &#x27;2019-08-20T09:00:00.000000000&#x27;,\n",
       "       &#x27;2019-08-21T09:00:00.000000000&#x27;, &#x27;2019-08-22T09:00:00.000000000&#x27;,\n",
       "       &#x27;2019-08-23T09:00:00.000000000&#x27;, &#x27;2019-08-24T09:00:00.000000000&#x27;,\n",
       "       &#x27;2019-08-25T09:00:00.000000000&#x27;, &#x27;2019-08-26T09:00:00.000000000&#x27;,\n",
       "       &#x27;2019-08-27T09:00:00.000000000&#x27;, &#x27;2019-08-28T09:00:00.000000000&#x27;,\n",
       "       &#x27;2019-08-29T09:00:00.000000000&#x27;, &#x27;2019-08-30T09:00:00.000000000&#x27;,\n",
       "       &#x27;2019-08-31T09:00:00.000000000&#x27;, &#x27;2019-09-01T09:00:00.000000000&#x27;,\n",
       "       &#x27;2019-09-02T09:00:00.000000000&#x27;, &#x27;2019-09-03T09:00:00.000000000&#x27;,\n",
       "       &#x27;2019-09-04T09:00:00.000000000&#x27;, &#x27;2019-09-05T09:00:00.000000000&#x27;,\n",
       "       &#x27;2019-09-06T09:00:00.000000000&#x27;, &#x27;2019-09-07T09:00:00.000000000&#x27;,\n",
       "       &#x27;2019-09-08T09:00:00.000000000&#x27;, &#x27;2019-09-09T09:00:00.000000000&#x27;,\n",
       "       &#x27;2019-09-10T09:00:00.000000000&#x27;, &#x27;2019-09-11T09:00:00.000000000&#x27;,\n",
       "       &#x27;2019-09-12T09:00:00.000000000&#x27;, &#x27;2019-09-13T09:00:00.000000000&#x27;,\n",
       "       &#x27;2019-09-14T09:00:00.000000000&#x27;, &#x27;2019-09-15T09:00:00.000000000&#x27;,\n",
       "       &#x27;2019-09-16T09:00:00.000000000&#x27;, &#x27;2019-09-17T09:00:00.000000000&#x27;,\n",
       "       &#x27;2019-09-18T09:00:00.000000000&#x27;, &#x27;2019-09-19T09:00:00.000000000&#x27;,\n",
       "       &#x27;2019-09-20T09:00:00.000000000&#x27;, &#x27;2019-09-21T09:00:00.000000000&#x27;,\n",
       "       &#x27;2019-09-22T09:00:00.000000000&#x27;, &#x27;2019-09-23T09:00:00.000000000&#x27;,\n",
       "       &#x27;2019-09-24T09:00:00.000000000&#x27;, &#x27;2019-09-25T09:00:00.000000000&#x27;,\n",
       "       &#x27;2019-09-26T09:00:00.000000000&#x27;, &#x27;2019-09-27T09:00:00.000000000&#x27;,\n",
       "       &#x27;2019-09-28T09:00:00.000000000&#x27;, &#x27;2019-09-29T09:00:00.000000000&#x27;,\n",
       "       &#x27;2019-09-30T09:00:00.000000000&#x27;, &#x27;2019-10-01T09:00:00.000000000&#x27;,\n",
       "       &#x27;2019-10-02T09:00:00.000000000&#x27;, &#x27;2019-10-03T09:00:00.000000000&#x27;,\n",
       "       &#x27;2019-10-04T09:00:00.000000000&#x27;, &#x27;2019-10-05T09:00:00.000000000&#x27;,\n",
       "       &#x27;2019-10-06T09:00:00.000000000&#x27;, &#x27;2019-10-07T09:00:00.000000000&#x27;,\n",
       "       &#x27;2019-10-08T09:00:00.000000000&#x27;, &#x27;2019-10-09T09:00:00.000000000&#x27;,\n",
       "       &#x27;2019-10-10T09:00:00.000000000&#x27;, &#x27;2019-10-11T09:00:00.000000000&#x27;,\n",
       "       &#x27;2019-10-12T09:00:00.000000000&#x27;, &#x27;2019-10-13T09:00:00.000000000&#x27;,\n",
       "       &#x27;2019-10-14T09:00:00.000000000&#x27;, &#x27;2019-10-15T09:00:00.000000000&#x27;,\n",
       "       &#x27;2019-10-16T09:00:00.000000000&#x27;, &#x27;2019-10-17T09:00:00.000000000&#x27;,\n",
       "       &#x27;2019-10-18T09:00:00.000000000&#x27;, &#x27;2019-10-19T09:00:00.000000000&#x27;,\n",
       "       &#x27;2019-10-20T09:00:00.000000000&#x27;, &#x27;2019-10-21T09:00:00.000000000&#x27;,\n",
       "       &#x27;2019-10-22T09:00:00.000000000&#x27;, &#x27;2019-10-23T09:00:00.000000000&#x27;,\n",
       "       &#x27;2019-10-24T09:00:00.000000000&#x27;, &#x27;2019-10-25T09:00:00.000000000&#x27;,\n",
       "       &#x27;2019-10-26T09:00:00.000000000&#x27;, &#x27;2019-10-27T09:00:00.000000000&#x27;,\n",
       "       &#x27;2019-10-28T09:00:00.000000000&#x27;, &#x27;2019-10-29T09:00:00.000000000&#x27;,\n",
       "       &#x27;2019-10-30T09:00:00.000000000&#x27;, &#x27;2019-10-31T09:00:00.000000000&#x27;,\n",
       "       &#x27;2019-11-01T09:00:00.000000000&#x27;, &#x27;2019-11-02T09:00:00.000000000&#x27;,\n",
       "       &#x27;2019-11-03T09:00:00.000000000&#x27;, &#x27;2019-11-04T09:00:00.000000000&#x27;,\n",
       "       &#x27;2019-11-05T09:00:00.000000000&#x27;, &#x27;2019-11-06T09:00:00.000000000&#x27;,\n",
       "       &#x27;2019-11-07T09:00:00.000000000&#x27;, &#x27;2019-11-08T09:00:00.000000000&#x27;,\n",
       "       &#x27;2019-11-09T09:00:00.000000000&#x27;, &#x27;2019-11-10T09:00:00.000000000&#x27;,\n",
       "       &#x27;2019-11-11T09:00:00.000000000&#x27;, &#x27;2019-11-12T09:00:00.000000000&#x27;,\n",
       "       &#x27;2019-11-13T09:00:00.000000000&#x27;, &#x27;2019-11-14T09:00:00.000000000&#x27;,\n",
       "       &#x27;2019-11-15T09:00:00.000000000&#x27;, &#x27;2019-11-16T09:00:00.000000000&#x27;,\n",
       "       &#x27;2019-11-17T09:00:00.000000000&#x27;, &#x27;2019-11-18T09:00:00.000000000&#x27;,\n",
       "       &#x27;2019-11-19T09:00:00.000000000&#x27;, &#x27;2019-11-20T09:00:00.000000000&#x27;,\n",
       "       &#x27;2019-11-21T09:00:00.000000000&#x27;, &#x27;2019-11-22T09:00:00.000000000&#x27;,\n",
       "       &#x27;2019-11-23T09:00:00.000000000&#x27;, &#x27;2019-11-24T09:00:00.000000000&#x27;,\n",
       "       &#x27;2019-11-25T09:00:00.000000000&#x27;, &#x27;2019-11-26T09:00:00.000000000&#x27;,\n",
       "       &#x27;2019-11-27T09:00:00.000000000&#x27;, &#x27;2019-11-28T09:00:00.000000000&#x27;,\n",
       "       &#x27;2019-11-29T09:00:00.000000000&#x27;, &#x27;2019-11-30T09:00:00.000000000&#x27;,\n",
       "       &#x27;2019-12-01T09:00:00.000000000&#x27;, &#x27;2019-12-02T09:00:00.000000000&#x27;,\n",
       "       &#x27;2019-12-03T09:00:00.000000000&#x27;, &#x27;2019-12-04T09:00:00.000000000&#x27;,\n",
       "       &#x27;2019-12-05T09:00:00.000000000&#x27;, &#x27;2019-12-06T09:00:00.000000000&#x27;,\n",
       "       &#x27;2019-12-07T09:00:00.000000000&#x27;, &#x27;2019-12-08T09:00:00.000000000&#x27;,\n",
       "       &#x27;2019-12-09T09:00:00.000000000&#x27;, &#x27;2019-12-10T09:00:00.000000000&#x27;,\n",
       "       &#x27;2019-12-11T09:00:00.000000000&#x27;, &#x27;2019-12-12T09:00:00.000000000&#x27;,\n",
       "       &#x27;2019-12-13T09:00:00.000000000&#x27;, &#x27;2019-12-14T09:00:00.000000000&#x27;,\n",
       "       &#x27;2019-12-15T09:00:00.000000000&#x27;, &#x27;2019-12-16T09:00:00.000000000&#x27;,\n",
       "       &#x27;2019-12-17T09:00:00.000000000&#x27;, &#x27;2019-12-18T09:00:00.000000000&#x27;,\n",
       "       &#x27;2019-12-19T09:00:00.000000000&#x27;, &#x27;2019-12-20T09:00:00.000000000&#x27;,\n",
       "       &#x27;2019-12-21T09:00:00.000000000&#x27;, &#x27;2019-12-22T09:00:00.000000000&#x27;,\n",
       "       &#x27;2019-12-23T09:00:00.000000000&#x27;, &#x27;2019-12-24T09:00:00.000000000&#x27;,\n",
       "       &#x27;2019-12-25T09:00:00.000000000&#x27;, &#x27;2019-12-26T09:00:00.000000000&#x27;,\n",
       "       &#x27;2019-12-27T09:00:00.000000000&#x27;, &#x27;2019-12-28T09:00:00.000000000&#x27;,\n",
       "       &#x27;2019-12-29T09:00:00.000000000&#x27;, &#x27;2019-12-30T09:00:00.000000000&#x27;,\n",
       "       &#x27;2019-12-31T09:00:00.000000000&#x27;, &#x27;2020-01-01T09:00:00.000000000&#x27;,\n",
       "       &#x27;2020-01-02T09:00:00.000000000&#x27;, &#x27;2020-01-03T09:00:00.000000000&#x27;,\n",
       "       &#x27;2020-01-04T09:00:00.000000000&#x27;, &#x27;2020-01-05T09:00:00.000000000&#x27;,\n",
       "       &#x27;2020-01-06T09:00:00.000000000&#x27;, &#x27;2020-01-07T09:00:00.000000000&#x27;,\n",
       "       &#x27;2020-01-08T09:00:00.000000000&#x27;, &#x27;2020-01-09T09:00:00.000000000&#x27;,\n",
       "       &#x27;2020-01-10T09:00:00.000000000&#x27;, &#x27;2020-01-11T09:00:00.000000000&#x27;,\n",
       "       &#x27;2020-01-12T09:00:00.000000000&#x27;, &#x27;2020-01-13T09:00:00.000000000&#x27;,\n",
       "       &#x27;2020-01-14T09:00:00.000000000&#x27;, &#x27;2020-01-15T09:00:00.000000000&#x27;,\n",
       "       &#x27;2020-01-16T09:00:00.000000000&#x27;, &#x27;2020-01-17T09:00:00.000000000&#x27;,\n",
       "       &#x27;2020-01-18T09:00:00.000000000&#x27;, &#x27;2020-01-19T09:00:00.000000000&#x27;,\n",
       "       &#x27;2020-01-20T09:00:00.000000000&#x27;], dtype=&#x27;datetime64[ns]&#x27;)</pre></div></li></ul></div></li><li class='xr-section-item'><input id='section-9fc341d9-258d-4f0e-8a62-d92fc774cfb2' class='xr-section-summary-in' type='checkbox'  checked><label for='section-9fc341d9-258d-4f0e-8a62-d92fc774cfb2' class='xr-section-summary' >Attributes: <span>(4)</span></label><div class='xr-section-inline-details'></div><div class='xr-section-details'><dl class='xr-attrs'><dt><span>description :</span></dt><dd>Hawaii Climatology from 2002-2015.</dd><dt><span>start_date :</span></dt><dd>01/01</dd><dt><span>end_date :</span></dt><dd>12/31</dd><dt><span>units :</span></dt><dd>degC</dd></dl></div></li></ul></div></div>"
      ],
      "text/plain": [
       "<xarray.DataArray 'sstclim' (time: 173, lat: 701, lon: 1001)>\n",
       "dask.array<concatenate, shape=(173, 701, 1001), dtype=float32, chunksize=(30, 100, 100), chunktype=numpy.ndarray>\n",
       "Coordinates:\n",
       "  * lon      (lon) float32 -160.0 -160.0 -160.0 -160.0 ... -150.0 -150.0 -150.0\n",
       "  * lat      (lat) float32 18.0 18.01 18.02 18.03 ... 24.97 24.98 24.99 25.0\n",
       "  * time     (time) datetime64[ns] 2019-08-01T09:00:00 ... 2020-01-20T09:00:00\n",
       "Attributes:\n",
       "    description:  Hawaii Climatology from 2002-2015.\n",
       "    start_date:   01/01\n",
       "    end_date:     12/31\n",
       "    units:        degC"
      ]
     },
     "execution_count": 44,
     "metadata": {},
     "output_type": "execute_result"
    }
   ],
   "source": [
    "mur_clim_subset"
   ]
  },
  {
   "cell_type": "markdown",
   "metadata": {},
   "source": [
    "### Create SST Anomaly Dataset"
   ]
  },
  {
   "cell_type": "code",
   "execution_count": null,
   "metadata": {},
   "outputs": [],
   "source": [
    "sst_anomaly = mur_hawaii - mur_clim_subset"
   ]
  },
  {
   "cell_type": "markdown",
   "metadata": {},
   "source": [
    "### Find Daily Average Temperature for Time Series"
   ]
  },
  {
   "cell_type": "code",
   "execution_count": null,
   "metadata": {},
   "outputs": [],
   "source": [
    "sst_anomaly_mean_ts = sst_anomaly.mean(['lat', 'lon'])"
   ]
  },
  {
   "cell_type": "markdown",
   "metadata": {},
   "source": [
    "### Find Average Temperature for Each Coordinate Pair for Spatial Plot"
   ]
  },
  {
   "cell_type": "code",
   "execution_count": null,
   "metadata": {},
   "outputs": [],
   "source": [
    "sst_anomaly_mean_sp = sst_anomaly.mean(['time'])"
   ]
  },
  {
   "cell_type": "markdown",
   "metadata": {},
   "source": [
    "## Regional Tests"
   ]
  },
  {
   "cell_type": "markdown",
   "metadata": {},
   "source": [
    "### Regional SST Anomaly Averaged Time Series, August 2019 - January 2020"
   ]
  },
  {
   "cell_type": "code",
   "execution_count": null,
   "metadata": {},
   "outputs": [],
   "source": [
    "start_time = timeit.default_timer()\n",
    "\n",
    "sst_anomaly_mean_ts\n",
    "\n",
    "elapsed = timeit.default_timer() - start_time\n",
    "print(elapsed)"
   ]
  },
  {
   "cell_type": "markdown",
   "metadata": {},
   "source": [
    "### Regional SST Anomaly Averaged Spatial Plot, August 2019 - January 2020"
   ]
  },
  {
   "cell_type": "code",
   "execution_count": null,
   "metadata": {},
   "outputs": [],
   "source": [
    "start_time = timeit.default_timer()\n",
    "\n",
    "sst_anomaly_mean_sp\n",
    "\n",
    "elapsed = timeit.default_timer() - start_time\n",
    "print(elapsed)"
   ]
  }
 ],
 "metadata": {
  "kernelspec": {
   "display_name": "Python 3",
   "language": "python",
   "name": "python3"
  },
  "language_info": {
   "codemirror_mode": {
    "name": "ipython",
    "version": 3
   },
   "file_extension": ".py",
   "mimetype": "text/x-python",
   "name": "python",
   "nbconvert_exporter": "python",
   "pygments_lexer": "ipython3",
   "version": "3.8.5"
  }
 },
 "nbformat": 4,
 "nbformat_minor": 4
}
