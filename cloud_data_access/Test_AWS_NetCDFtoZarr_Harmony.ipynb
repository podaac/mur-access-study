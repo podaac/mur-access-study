{
 "cells": [
  {
   "cell_type": "markdown",
   "metadata": {},
   "source": [
    "# AWS NetCDF4 to Zarr Using Harmony Reformatter"
   ]
  },
  {
   "cell_type": "markdown",
   "metadata": {},
   "source": [
    "**Goal**\n",
    "<br/>\n",
    "To direct the Harmony Zarr Reformatter to the proper subset of the MUR 1-km dataset stored in an S3 bucket within Amazon Web Services (AWS) and use it's output in conjunction with the MUR Climatology dataset (created by Mike Chin and cleaned in the notebook 'CleaningMURClimatologyData.ipynb') to create a Sea Surface Temperature (SST) anomaly dataset for use in testing runtimes on dataset loading and plotting applications. "
   ]
  },
  {
   "cell_type": "markdown",
   "metadata": {},
   "source": [
    "**Run Location**\n",
    "<br/>\n",
    "This notebook was run on an AWS EC2 t3.medium instance. It was discovered that for this specific analysis and dataset a t3.small instance did not provide enough memory."
   ]
  },
  {
   "cell_type": "markdown",
   "metadata": {},
   "source": [
    "**Dataset**\n",
    "<br/>\n",
    "MUR 1-km L4 SST netCDF4 AWS (requires AWS early access in order to view on Earthdata Search) https://podaac.jpl.nasa.gov/MEaSUREs-MUR?tab=background&sections=about%2Bdata"
   ]
  },
  {
   "cell_type": "markdown",
   "metadata": {},
   "source": [
    "### Import Modules"
   ]
  },
  {
   "cell_type": "code",
   "execution_count": 14,
   "metadata": {},
   "outputs": [],
   "source": [
    "%matplotlib inline\n",
    "import sys\n",
    "from eosdis_store import EosdisStore\n",
    "\n",
    "import s3fs\n",
    "import numpy as np\n",
    "import xarray as xr\n",
    "import fsspec\n",
    "import zarr\n",
    "import timeit\n",
    "import time\n",
    "import zarr\n",
    "import matplotlib.pyplot as plt\n",
    "from dask.distributed import Client, performance_report\n",
    "\n",
    "import requests\n",
    "import pandas as pd\n",
    "from IPython.display import HTML\n",
    "from json import dumps, loads\n",
    "from platform import system\n",
    "from netrc import netrc\n",
    "from getpass import getpass\n",
    "from urllib import request\n",
    "from http.cookiejar import CookieJar\n",
    "from os.path import join, expanduser"
   ]
  },
  {
   "cell_type": "markdown",
   "metadata": {},
   "source": [
    "### Set the CMR, URS, and Harmony Endpoints\n",
    "<br/>\n",
    "CMR, or the Earthdata Common Metadata Repository, is a high-performance, high-quality, continuously evolving metadata system that catalogs Earth Science data and associated service metadata records. URS is the Earthdata login system, that allows (free) download access to Earthdata data. Harmony API allows you to seamlessly analyze Earth observation data from different NASA data centers."
   ]
  },
  {
   "cell_type": "code",
   "execution_count": 2,
   "metadata": {},
   "outputs": [
    {
     "data": {
      "text/plain": [
       "('cmr.earthdata.nasa.gov',\n",
       " 'urs.earthdata.nasa.gov',\n",
       " 'harmony.earthdata.nasa.gov')"
      ]
     },
     "execution_count": 2,
     "metadata": {},
     "output_type": "execute_result"
    }
   ],
   "source": [
    "cmr = \"cmr.earthdata.nasa.gov\"\n",
    "urs = \"urs.earthdata.nasa.gov\"\n",
    "harmony = \"harmony.earthdata.nasa.gov\"\n",
    "\n",
    "cmr, urs, harmony"
   ]
  },
  {
   "cell_type": "markdown",
   "metadata": {},
   "source": [
    "### Earthdata Login\n",
    "<br/>\n",
    "An Earthdata Login account is required to access data, as well as discover restricted data, from the NASA Earthdata system. Please visit https://urs.earthdata.nasa.gov to register and manage your Earthdata Login account. This account is free to create and only takes a moment to set up.\n",
    "\n",
    "The setup_earthdata_login_auth function will allow Python scripts to log into any Earthdata Login application programmatically. To avoid being prompted for credentials every time you run and also allow clients such as curl to log in, you can add the following to a .netrc (_netrc on Windows) file in your home directory:\n",
    "\n",
    "    machine urs.earthdata.nasa.gov\n",
    "    login <your username>\n",
    "    password <your password>\n",
    "\n",
    "Make sure that this file is only readable by the current user or you will receive an error stating \"netrc access too permissive.\"\n",
    "\n",
    "    $ chmod 0600 ~/.netrc"
   ]
  },
  {
   "cell_type": "code",
   "execution_count": 3,
   "metadata": {},
   "outputs": [
    {
     "name": "stdout",
     "output_type": "stream",
     "text": [
      "# Your URS credentials were securely retrieved from your .netrc file.\n"
     ]
    }
   ],
   "source": [
    "TOKEN_DATA = (\"<token>\"\n",
    "              \"<username>%s</username>\"\n",
    "              \"<password>%s</password>\"\n",
    "              \"<client_id>PODAAC CMR Client</client_id>\"\n",
    "              \"<user_ip_address>%s</user_ip_address>\"\n",
    "              \"</token>\")\n",
    "\n",
    "\n",
    "def setup_earthdata_login_auth(urs: str='urs.earthdata.nasa.gov', cmr: str='cmr.earthdata.nasa.gov'):\n",
    "\n",
    "    # GET URS LOGIN INFO FROM NETRC OR USER PROMPTS:\n",
    "    netrc_name = \"_netrc\" if system()==\"Windows\" else \".netrc\"\n",
    "    try:\n",
    "        username, _, password = netrc(file=join(expanduser('~'), netrc_name)).authenticators(urs)\n",
    "        print(\"# Your URS credentials were securely retrieved from your .netrc file.\")\n",
    "    except (FileNotFoundError, TypeError):\n",
    "        print('# Please provide your Earthdata Login credentials for access.')\n",
    "        print('# Your info will only be passed to %s and will not be exposed in Jupyter.' % (urs))\n",
    "        username = input('Username: ')\n",
    "        password = getpass('Password: ')\n",
    "\n",
    "    # SET UP URS AUTHENTICATION FOR HTTP DOWNLOADS:\n",
    "    manager = request.HTTPPasswordMgrWithDefaultRealm()\n",
    "    manager.add_password(None, urs, username, password)\n",
    "    auth = request.HTTPBasicAuthHandler(manager)\n",
    "    jar = CookieJar()\n",
    "    processor = request.HTTPCookieProcessor(jar)\n",
    "    opener = request.build_opener(auth, processor)\n",
    "    request.install_opener(opener)\n",
    "\n",
    "    # GET TOKEN TO ACCESS RESTRICTED CMR METADATA:\n",
    "    ip = requests.get(\"https://ipinfo.io/ip\").text.strip()\n",
    "    r = requests.post(\n",
    "        url=\"https://%s/legacy-services/rest/tokens\" % cmr,\n",
    "        data=TOKEN_DATA % (str(username), str(password), ip),\n",
    "        headers={'Content-Type': 'application/xml', 'Accept': 'application/json'}\n",
    "    )\n",
    "    return r.json()['token']['id']\n",
    "\n",
    "\n",
    "# Provide URS credentials for HTTP download auth & CMR token retrieval:\n",
    "_token = setup_earthdata_login_auth(urs=urs, cmr=cmr)"
   ]
  },
  {
   "cell_type": "markdown",
   "metadata": {},
   "source": [
    "### Obtain Dataset Metadata"
   ]
  },
  {
   "cell_type": "code",
   "execution_count": 4,
   "metadata": {},
   "outputs": [],
   "source": [
    "SHORTNAME = \"MUR-JPL-L4-GLOB-v4.1\""
   ]
  },
  {
   "cell_type": "code",
   "execution_count": 5,
   "metadata": {
    "scrolled": true
   },
   "outputs": [
    {
     "data": {
      "text/plain": [
       "{'revision-id': 29,\n",
       " 'deleted': False,\n",
       " 'format': 'application/vnd.nasa.cmr.umm+json',\n",
       " 'provider-id': 'POCLOUD',\n",
       " 'user-id': 'mgangl',\n",
       " 'has-formats': False,\n",
       " 'associations': {'variables': ['V2028632042-POCLOUD',\n",
       "   'V2028632044-POCLOUD',\n",
       "   'V2028632047-POCLOUD',\n",
       "   'V2028668049-POCLOUD']},\n",
       " 's3-links': ['podaac-ops-cumulus-public/MUR-JPL-L4-GLOB-v4.1/',\n",
       "  'podaac-ops-cumulus-protected/MUR-JPL-L4-GLOB-v4.1/'],\n",
       " 'has-spatial-subsetting': False,\n",
       " 'native-id': 'GHRSST+Level+4+MUR+Global+Foundation+Sea+Surface+Temperature+Analysis+(v4.1)',\n",
       " 'has-transforms': False,\n",
       " 'has-variables': True,\n",
       " 'concept-id': 'C1996881146-POCLOUD',\n",
       " 'revision-date': '2021-07-26T17:41:06.284Z',\n",
       " 'granule-count': 0,\n",
       " 'has-temporal-subsetting': False,\n",
       " 'concept-type': 'collection'}"
      ]
     },
     "execution_count": 5,
     "metadata": {},
     "output_type": "execute_result"
    }
   ],
   "source": [
    "r = requests.get(url=f\"https://{cmr}/search/collections.umm_json\", \n",
    "                 params={'provider': \"POCLOUD\", \n",
    "                         'ShortName': SHORTNAME, \n",
    "                         'token': _token})\n",
    "\n",
    "mur_coll = r.json()\n",
    "mur_coll_meta = mur_coll['items'][0]['meta']\n",
    "mur_coll_meta"
   ]
  },
  {
   "cell_type": "markdown",
   "metadata": {},
   "source": [
    "## Setup for Regional Tests"
   ]
  },
  {
   "cell_type": "markdown",
   "metadata": {},
   "source": [
    "### Period and Region of Interest"
   ]
  },
  {
   "cell_type": "code",
   "execution_count": 9,
   "metadata": {},
   "outputs": [],
   "source": [
    "start_date = \"2019-08-01\"\n",
    "end_date = \"2019-08-01\"\n",
    "\n",
    "minlat = 18\n",
    "maxlat = 23\n",
    "minlon = -160\n",
    "maxlon = -154"
   ]
  },
  {
   "cell_type": "markdown",
   "metadata": {},
   "source": [
    "### Request to Harmony API: Zarr Reformatter\n",
    "<br/>\n",
    "But we'll use the Harmony API's Zarr Reformatter service instead of downloading the entire granule. The zarr format will allow us to open and download/read just the data that we require for our Amazon Basin study area.\n",
    "<br/>\n",
    "<br/>\n",
    "If you have a jobID you'd like to re-visit instead of running this command again, modify the cell below to set the async_jobId then skip the one immediately after. You can continue from 'Query for the job status and links'.\n",
    "<br/>\n",
    "<br/>\n",
    "If you are running for the first time, proceed to the next cells to submit the harmony request."
   ]
  },
  {
   "cell_type": "code",
   "execution_count": 7,
   "metadata": {},
   "outputs": [],
   "source": [
    "# async_jobId = \"74632965-e9fd-407d-aa78-c2b4306eeda6\"  # jobId belongs to dev. You wont have access.\n",
    "async_jobId = None"
   ]
  },
  {
   "cell_type": "markdown",
   "metadata": {},
   "source": [
    "See important usage note below if this is your first time submitting a request to the Zarr Reformatter service.\n",
    "\n",
    "The Zarr Reformatter service operates on an input Collection concept-id (a CMR construct). The service will accept more user-friendly inputs (like a Collection ShortName) in future releases. Here's how you identify the CMR concept-id for the JPL MUR 1-km SST dataset:"
   ]
  },
  {
   "cell_type": "code",
   "execution_count": 8,
   "metadata": {},
   "outputs": [
    {
     "data": {
      "text/plain": [
       "'C1996881146-POCLOUD'"
      ]
     },
     "execution_count": 8,
     "metadata": {},
     "output_type": "execute_result"
    }
   ],
   "source": [
    "collection_concept_id = mur_coll_meta['concept-id']\n",
    "collection_concept_id"
   ]
  },
  {
   "cell_type": "code",
   "execution_count": 10,
   "metadata": {},
   "outputs": [],
   "source": [
    "lat = '(' + str(minlat) + ':' + str(maxlat) + ')'\n",
    "lon = '(' + str(minlon) + ':' + str(maxlon) + ')' \n",
    "time = '(' + \"\\\"\" + str(start_date) + 'T09:00:00Z' + \"\\\"\" + ':\\\"' + str(end_date) + 'T09:00:00Z' + \"\\\"\" + ')'"
   ]
  },
  {
   "cell_type": "code",
   "execution_count": 11,
   "metadata": {},
   "outputs": [
    {
     "name": "stdout",
     "output_type": "stream",
     "text": [
      "Request URL:  https://harmony.earthdata.nasa.gov/C1996881146-POCLOUD/ogc-api-coverages/1.0.0/collections/all/coverage/rangeset?subset=lat(18:23)&subset=lon(-160:-154)&subset=time(\"2019-08-01T09:00:00Z\":\"2019-08-01T09:00:00Z\")&format=application/x-zarr\n",
      "{\n",
      "  \"username\": \"matthew.a.thompson\",\n",
      "  \"status\": \"running\",\n",
      "  \"message\": \"The job is being processed\",\n",
      "  \"progress\": 0,\n",
      "  \"createdAt\": \"2021-08-16T17:47:30.360Z\",\n",
      "  \"updatedAt\": \"2021-08-16T17:47:30.360Z\",\n",
      "  \"links\": [\n",
      "    {\n",
      "      \"href\": \"https://harmony.earthdata.nasa.gov/jobs/05a2ebd6-0307-48c3-90fc-d4c56e412057?page=1&limit=2000\",\n",
      "      \"title\": \"The current page\",\n",
      "      \"type\": \"application/json\",\n",
      "      \"rel\": \"self\"\n",
      "    }\n",
      "  ],\n",
      "  \"request\": \"https://harmony.earthdata.nasa.gov/C1996881146-POCLOUD/ogc-api-coverages/1.0.0/collections/all/coverage/rangeset?subset=lat(18%3A23)&subset=lon(-160%3A-154)&subset=time(%222019-08-01T09%3A00%3A00Z%22%3A%222019-08-01T09%3A00%3A00Z%22)&format=application%2Fx-zarr\",\n",
      "  \"numInputGranules\": 1,\n",
      "  \"jobID\": \"05a2ebd6-0307-48c3-90fc-d4c56e412057\"\n",
      "}\n"
     ]
    }
   ],
   "source": [
    "async_url = f'https://{harmony}/{collection_concept_id}/ogc-api-coverages/1.0.0/collections/all/coverage/rangeset?subset=lat{lat}&subset=lon{lon}&subset=time{time}&format=application/x-zarr'\n",
    "if async_jobId is None:\n",
    "    print('Request URL: ', async_url)\n",
    "    async_response = request.urlopen(async_url)\n",
    "    async_results = async_response.read()\n",
    "    async_json = loads(async_results)\n",
    "    print(dumps(async_json, indent=2))\n",
    "    async_jobId = async_json['jobID']"
   ]
  },
  {
   "cell_type": "markdown",
   "metadata": {},
   "source": [
    "Format and display the complete url to the Harmony API job:"
   ]
  },
  {
   "cell_type": "code",
   "execution_count": 12,
   "metadata": {},
   "outputs": [
    {
     "data": {
      "text/plain": [
       "'https://harmony.earthdata.nasa.gov/jobs/05a2ebd6-0307-48c3-90fc-d4c56e412057'"
      ]
     },
     "execution_count": 12,
     "metadata": {},
     "output_type": "execute_result"
    }
   ],
   "source": [
    "job_url = f'https://{harmony}/jobs/{async_jobId}'\n",
    "job_url"
   ]
  },
  {
   "cell_type": "markdown",
   "metadata": {},
   "source": [
    "Query for the job status and links in case the request is still processing:"
   ]
  },
  {
   "cell_type": "code",
   "execution_count": 15,
   "metadata": {},
   "outputs": [
    {
     "name": "stdout",
     "output_type": "stream",
     "text": [
      "# Job status is running. Progress is 0. Trying again.\n",
      "# Job status is running. Progress is 0. Trying again.\n",
      "# Job status is running. Progress is 0. Trying again.\n",
      "# Job status is running. Progress is 0. Trying again.\n",
      "# Job status is running. Progress is 0. Trying again.\n",
      "# Job status is running. Progress is 0. Trying again.\n",
      "# Job status is running. Progress is 0. Trying again.\n",
      "# Job status is running. Progress is 0. Trying again.\n",
      "# Job status is running. Progress is 0. Trying again.\n",
      "# Job status is running. Progress is 0. Trying again.\n",
      "# Job status is running. Progress is 0. Trying again.\n",
      "# Job status is running. Progress is 0. Trying again.\n",
      "# Job status is running. Progress is 0. Trying again.\n",
      "# Job status is running. Progress is 0. Trying again.\n",
      "# Job status is running. Progress is 0. Trying again.\n",
      "# Job status is running. Progress is 0. Trying again.\n",
      "# Job status is running. Progress is 0. Trying again.\n",
      "# Job status is running. Progress is 0. Trying again.\n",
      "# Job status is running. Progress is 0. Trying again.\n",
      "# Job status is running. Progress is 0. Trying again.\n",
      "# Job status is running. Progress is 0. Trying again.\n",
      "# Job status is running. Progress is 0. Trying again.\n",
      "# Job status is running. Progress is 0. Trying again.\n",
      "# Job status is running. Progress is 0. Trying again.\n",
      "# Job status is running. Progress is 0. Trying again.\n",
      "# Job status is running. Progress is 0. Trying again.\n",
      "# Job status is running. Progress is 0. Trying again.\n",
      "# Job status is running. Progress is 99. Trying again.\n",
      "# Job progress is 100%. Links to job outputs are displayed below:\n"
     ]
    },
    {
     "data": {
      "text/plain": [
       "['https://harmony.earthdata.nasa.gov/stac/05a2ebd6-0307-48c3-90fc-d4c56e412057/',\n",
       " 'https://harmony.earthdata.nasa.gov/cloud-access.sh',\n",
       " 'https://harmony.earthdata.nasa.gov/cloud-access',\n",
       " 's3://harmony-prod-staging/public/harmony/netcdf-to-zarr/f228b144-a4a7-405c-8a21-785b7df7c0b4/',\n",
       " 's3://harmony-prod-staging/public/harmony/netcdf-to-zarr/f228b144-a4a7-405c-8a21-785b7df7c0b4/20190801090000-JPL-L4_GHRSST-SSTfnd-MUR-GLOB-v02.0-fv04.1.zarr',\n",
       " 'https://harmony.earthdata.nasa.gov/jobs/05a2ebd6-0307-48c3-90fc-d4c56e412057?page=1&limit=2000']"
      ]
     },
     "metadata": {},
     "output_type": "display_data"
    },
    {
     "name": "stdout",
     "output_type": "stream",
     "text": [
      "149.523580299\n"
     ]
    }
   ],
   "source": [
    "start_time = timeit.default_timer()\n",
    "\n",
    "while True:\n",
    "    loop_response = request.urlopen(job_url)\n",
    "    loop_results = loop_response.read()\n",
    "    job_json = loads(loop_results)\n",
    "    if job_json['status'] != 'running':\n",
    "        break\n",
    "    print(f\"# Job status is running. Progress is {job_json['progress']}. Trying again.\")\n",
    "    time.sleep(5)\n",
    "\n",
    "links = []\n",
    "if job_json['status'] == 'successful' and job_json['progress'] == 100:\n",
    "    print(\"# Job progress is 100%. Links to job outputs are displayed below:\")\n",
    "    links = [link['href'] for link in job_json['links']]\n",
    "    display(links)\n",
    "    \n",
    "elapsed = timeit.default_timer() - start_time\n",
    "print(elapsed)"
   ]
  },
  {
   "cell_type": "markdown",
   "metadata": {},
   "source": [
    "### Access URL for the Output Zarr File\n",
    "<br/>\n",
    "The new zarr dataset is staged for us in an S3 bucket. The url is the last one in the list shown above.\n",
    "\n",
    "Select the url and display below:"
   ]
  },
  {
   "cell_type": "code",
   "execution_count": 13,
   "metadata": {},
   "outputs": [
    {
     "data": {
      "text/plain": [
       "['https://harmony.earthdata.nasa.gov/stac/74632965-e9fd-407d-aa78-c2b4306eeda6/',\n",
       " 'https://harmony.earthdata.nasa.gov/cloud-access.sh',\n",
       " 'https://harmony.earthdata.nasa.gov/cloud-access',\n",
       " 's3://harmony-prod-staging/public/harmony/netcdf-to-zarr/2f0c87d2-20d1-4054-a11c-9803c5810b91/',\n",
       " 's3://harmony-prod-staging/public/harmony/netcdf-to-zarr/2f0c87d2-20d1-4054-a11c-9803c5810b91/20190801090000-JPL-L4_GHRSST-SSTfnd-MUR-GLOB-v02.0-fv04.1.zarr',\n",
       " 's3://harmony-prod-staging/public/harmony/netcdf-to-zarr/2f0c87d2-20d1-4054-a11c-9803c5810b91/20190802090000-JPL-L4_GHRSST-SSTfnd-MUR-GLOB-v02.0-fv04.1.zarr',\n",
       " 's3://harmony-prod-staging/public/harmony/netcdf-to-zarr/2f0c87d2-20d1-4054-a11c-9803c5810b91/20190803090000-JPL-L4_GHRSST-SSTfnd-MUR-GLOB-v02.0-fv04.1.zarr',\n",
       " 's3://harmony-prod-staging/public/harmony/netcdf-to-zarr/2f0c87d2-20d1-4054-a11c-9803c5810b91/20190804090000-JPL-L4_GHRSST-SSTfnd-MUR-GLOB-v02.0-fv04.1.zarr',\n",
       " 's3://harmony-prod-staging/public/harmony/netcdf-to-zarr/2f0c87d2-20d1-4054-a11c-9803c5810b91/20190805090000-JPL-L4_GHRSST-SSTfnd-MUR-GLOB-v02.0-fv04.1.zarr',\n",
       " 's3://harmony-prod-staging/public/harmony/netcdf-to-zarr/2f0c87d2-20d1-4054-a11c-9803c5810b91/20190806090000-JPL-L4_GHRSST-SSTfnd-MUR-GLOB-v02.0-fv04.1.zarr',\n",
       " 's3://harmony-prod-staging/public/harmony/netcdf-to-zarr/2f0c87d2-20d1-4054-a11c-9803c5810b91/20190807090000-JPL-L4_GHRSST-SSTfnd-MUR-GLOB-v02.0-fv04.1.zarr',\n",
       " 's3://harmony-prod-staging/public/harmony/netcdf-to-zarr/2f0c87d2-20d1-4054-a11c-9803c5810b91/20190808090000-JPL-L4_GHRSST-SSTfnd-MUR-GLOB-v02.0-fv04.1.zarr',\n",
       " 's3://harmony-prod-staging/public/harmony/netcdf-to-zarr/2f0c87d2-20d1-4054-a11c-9803c5810b91/20190809090000-JPL-L4_GHRSST-SSTfnd-MUR-GLOB-v02.0-fv04.1.zarr',\n",
       " 's3://harmony-prod-staging/public/harmony/netcdf-to-zarr/2f0c87d2-20d1-4054-a11c-9803c5810b91/20190810090000-JPL-L4_GHRSST-SSTfnd-MUR-GLOB-v02.0-fv04.1.zarr',\n",
       " 's3://harmony-prod-staging/public/harmony/netcdf-to-zarr/2f0c87d2-20d1-4054-a11c-9803c5810b91/20190811090000-JPL-L4_GHRSST-SSTfnd-MUR-GLOB-v02.0-fv04.1.zarr',\n",
       " 's3://harmony-prod-staging/public/harmony/netcdf-to-zarr/2f0c87d2-20d1-4054-a11c-9803c5810b91/20190812090000-JPL-L4_GHRSST-SSTfnd-MUR-GLOB-v02.0-fv04.1.zarr',\n",
       " 's3://harmony-prod-staging/public/harmony/netcdf-to-zarr/2f0c87d2-20d1-4054-a11c-9803c5810b91/20190813090000-JPL-L4_GHRSST-SSTfnd-MUR-GLOB-v02.0-fv04.1.zarr',\n",
       " 's3://harmony-prod-staging/public/harmony/netcdf-to-zarr/2f0c87d2-20d1-4054-a11c-9803c5810b91/20190814090000-JPL-L4_GHRSST-SSTfnd-MUR-GLOB-v02.0-fv04.1.zarr',\n",
       " 's3://harmony-prod-staging/public/harmony/netcdf-to-zarr/2f0c87d2-20d1-4054-a11c-9803c5810b91/20190815090000-JPL-L4_GHRSST-SSTfnd-MUR-GLOB-v02.0-fv04.1.zarr',\n",
       " 's3://harmony-prod-staging/public/harmony/netcdf-to-zarr/2f0c87d2-20d1-4054-a11c-9803c5810b91/20190816090000-JPL-L4_GHRSST-SSTfnd-MUR-GLOB-v02.0-fv04.1.zarr',\n",
       " 's3://harmony-prod-staging/public/harmony/netcdf-to-zarr/2f0c87d2-20d1-4054-a11c-9803c5810b91/20190817090000-JPL-L4_GHRSST-SSTfnd-MUR-GLOB-v02.0-fv04.1.zarr',\n",
       " 's3://harmony-prod-staging/public/harmony/netcdf-to-zarr/2f0c87d2-20d1-4054-a11c-9803c5810b91/20190818090000-JPL-L4_GHRSST-SSTfnd-MUR-GLOB-v02.0-fv04.1.zarr',\n",
       " 's3://harmony-prod-staging/public/harmony/netcdf-to-zarr/2f0c87d2-20d1-4054-a11c-9803c5810b91/20190819090000-JPL-L4_GHRSST-SSTfnd-MUR-GLOB-v02.0-fv04.1.zarr',\n",
       " 's3://harmony-prod-staging/public/harmony/netcdf-to-zarr/2f0c87d2-20d1-4054-a11c-9803c5810b91/20190820090000-JPL-L4_GHRSST-SSTfnd-MUR-GLOB-v02.0-fv04.1.zarr',\n",
       " 's3://harmony-prod-staging/public/harmony/netcdf-to-zarr/2f0c87d2-20d1-4054-a11c-9803c5810b91/20190821090000-JPL-L4_GHRSST-SSTfnd-MUR-GLOB-v02.0-fv04.1.zarr',\n",
       " 's3://harmony-prod-staging/public/harmony/netcdf-to-zarr/2f0c87d2-20d1-4054-a11c-9803c5810b91/20190822090000-JPL-L4_GHRSST-SSTfnd-MUR-GLOB-v02.0-fv04.1.zarr',\n",
       " 's3://harmony-prod-staging/public/harmony/netcdf-to-zarr/2f0c87d2-20d1-4054-a11c-9803c5810b91/20190823090000-JPL-L4_GHRSST-SSTfnd-MUR-GLOB-v02.0-fv04.1.zarr',\n",
       " 's3://harmony-prod-staging/public/harmony/netcdf-to-zarr/2f0c87d2-20d1-4054-a11c-9803c5810b91/20190824090000-JPL-L4_GHRSST-SSTfnd-MUR-GLOB-v02.0-fv04.1.zarr',\n",
       " 's3://harmony-prod-staging/public/harmony/netcdf-to-zarr/2f0c87d2-20d1-4054-a11c-9803c5810b91/20190825090000-JPL-L4_GHRSST-SSTfnd-MUR-GLOB-v02.0-fv04.1.zarr',\n",
       " 's3://harmony-prod-staging/public/harmony/netcdf-to-zarr/2f0c87d2-20d1-4054-a11c-9803c5810b91/20190826090000-JPL-L4_GHRSST-SSTfnd-MUR-GLOB-v02.0-fv04.1.zarr',\n",
       " 's3://harmony-prod-staging/public/harmony/netcdf-to-zarr/2f0c87d2-20d1-4054-a11c-9803c5810b91/20190827090000-JPL-L4_GHRSST-SSTfnd-MUR-GLOB-v02.0-fv04.1.zarr',\n",
       " 's3://harmony-prod-staging/public/harmony/netcdf-to-zarr/2f0c87d2-20d1-4054-a11c-9803c5810b91/20190828090000-JPL-L4_GHRSST-SSTfnd-MUR-GLOB-v02.0-fv04.1.zarr',\n",
       " 's3://harmony-prod-staging/public/harmony/netcdf-to-zarr/2f0c87d2-20d1-4054-a11c-9803c5810b91/20190829090000-JPL-L4_GHRSST-SSTfnd-MUR-GLOB-v02.0-fv04.1.zarr',\n",
       " 's3://harmony-prod-staging/public/harmony/netcdf-to-zarr/2f0c87d2-20d1-4054-a11c-9803c5810b91/20190830090000-JPL-L4_GHRSST-SSTfnd-MUR-GLOB-v02.0-fv04.1.zarr',\n",
       " 's3://harmony-prod-staging/public/harmony/netcdf-to-zarr/2f0c87d2-20d1-4054-a11c-9803c5810b91/20190831090000-JPL-L4_GHRSST-SSTfnd-MUR-GLOB-v02.0-fv04.1.zarr',\n",
       " 's3://harmony-prod-staging/public/harmony/netcdf-to-zarr/2f0c87d2-20d1-4054-a11c-9803c5810b91/20190901090000-JPL-L4_GHRSST-SSTfnd-MUR-GLOB-v02.0-fv04.1.zarr',\n",
       " 's3://harmony-prod-staging/public/harmony/netcdf-to-zarr/2f0c87d2-20d1-4054-a11c-9803c5810b91/20190902090000-JPL-L4_GHRSST-SSTfnd-MUR-GLOB-v02.0-fv04.1.zarr',\n",
       " 's3://harmony-prod-staging/public/harmony/netcdf-to-zarr/2f0c87d2-20d1-4054-a11c-9803c5810b91/20190903090000-JPL-L4_GHRSST-SSTfnd-MUR-GLOB-v02.0-fv04.1.zarr',\n",
       " 's3://harmony-prod-staging/public/harmony/netcdf-to-zarr/2f0c87d2-20d1-4054-a11c-9803c5810b91/20190904090000-JPL-L4_GHRSST-SSTfnd-MUR-GLOB-v02.0-fv04.1.zarr',\n",
       " 's3://harmony-prod-staging/public/harmony/netcdf-to-zarr/2f0c87d2-20d1-4054-a11c-9803c5810b91/20190905090000-JPL-L4_GHRSST-SSTfnd-MUR-GLOB-v02.0-fv04.1.zarr',\n",
       " 's3://harmony-prod-staging/public/harmony/netcdf-to-zarr/2f0c87d2-20d1-4054-a11c-9803c5810b91/20190906090000-JPL-L4_GHRSST-SSTfnd-MUR-GLOB-v02.0-fv04.1.zarr',\n",
       " 's3://harmony-prod-staging/public/harmony/netcdf-to-zarr/2f0c87d2-20d1-4054-a11c-9803c5810b91/20190907090000-JPL-L4_GHRSST-SSTfnd-MUR-GLOB-v02.0-fv04.1.zarr',\n",
       " 's3://harmony-prod-staging/public/harmony/netcdf-to-zarr/2f0c87d2-20d1-4054-a11c-9803c5810b91/20190908090000-JPL-L4_GHRSST-SSTfnd-MUR-GLOB-v02.0-fv04.1.zarr',\n",
       " 's3://harmony-prod-staging/public/harmony/netcdf-to-zarr/2f0c87d2-20d1-4054-a11c-9803c5810b91/20190909090000-JPL-L4_GHRSST-SSTfnd-MUR-GLOB-v02.0-fv04.1.zarr',\n",
       " 's3://harmony-prod-staging/public/harmony/netcdf-to-zarr/2f0c87d2-20d1-4054-a11c-9803c5810b91/20190910090000-JPL-L4_GHRSST-SSTfnd-MUR-GLOB-v02.0-fv04.1.zarr',\n",
       " 's3://harmony-prod-staging/public/harmony/netcdf-to-zarr/2f0c87d2-20d1-4054-a11c-9803c5810b91/20190911090000-JPL-L4_GHRSST-SSTfnd-MUR-GLOB-v02.0-fv04.1.zarr',\n",
       " 's3://harmony-prod-staging/public/harmony/netcdf-to-zarr/2f0c87d2-20d1-4054-a11c-9803c5810b91/20190912090000-JPL-L4_GHRSST-SSTfnd-MUR-GLOB-v02.0-fv04.1.zarr',\n",
       " 's3://harmony-prod-staging/public/harmony/netcdf-to-zarr/2f0c87d2-20d1-4054-a11c-9803c5810b91/20190913090000-JPL-L4_GHRSST-SSTfnd-MUR-GLOB-v02.0-fv04.1.zarr',\n",
       " 's3://harmony-prod-staging/public/harmony/netcdf-to-zarr/2f0c87d2-20d1-4054-a11c-9803c5810b91/20190914090000-JPL-L4_GHRSST-SSTfnd-MUR-GLOB-v02.0-fv04.1.zarr',\n",
       " 's3://harmony-prod-staging/public/harmony/netcdf-to-zarr/2f0c87d2-20d1-4054-a11c-9803c5810b91/20190915090000-JPL-L4_GHRSST-SSTfnd-MUR-GLOB-v02.0-fv04.1.zarr',\n",
       " 's3://harmony-prod-staging/public/harmony/netcdf-to-zarr/2f0c87d2-20d1-4054-a11c-9803c5810b91/20190916090000-JPL-L4_GHRSST-SSTfnd-MUR-GLOB-v02.0-fv04.1.zarr',\n",
       " 's3://harmony-prod-staging/public/harmony/netcdf-to-zarr/2f0c87d2-20d1-4054-a11c-9803c5810b91/20190917090000-JPL-L4_GHRSST-SSTfnd-MUR-GLOB-v02.0-fv04.1.zarr',\n",
       " 's3://harmony-prod-staging/public/harmony/netcdf-to-zarr/2f0c87d2-20d1-4054-a11c-9803c5810b91/20190918090000-JPL-L4_GHRSST-SSTfnd-MUR-GLOB-v02.0-fv04.1.zarr',\n",
       " 's3://harmony-prod-staging/public/harmony/netcdf-to-zarr/2f0c87d2-20d1-4054-a11c-9803c5810b91/20190919090000-JPL-L4_GHRSST-SSTfnd-MUR-GLOB-v02.0-fv04.1.zarr',\n",
       " 's3://harmony-prod-staging/public/harmony/netcdf-to-zarr/2f0c87d2-20d1-4054-a11c-9803c5810b91/20190920090000-JPL-L4_GHRSST-SSTfnd-MUR-GLOB-v02.0-fv04.1.zarr',\n",
       " 's3://harmony-prod-staging/public/harmony/netcdf-to-zarr/2f0c87d2-20d1-4054-a11c-9803c5810b91/20190921090000-JPL-L4_GHRSST-SSTfnd-MUR-GLOB-v02.0-fv04.1.zarr',\n",
       " 's3://harmony-prod-staging/public/harmony/netcdf-to-zarr/2f0c87d2-20d1-4054-a11c-9803c5810b91/20190922090000-JPL-L4_GHRSST-SSTfnd-MUR-GLOB-v02.0-fv04.1.zarr',\n",
       " 's3://harmony-prod-staging/public/harmony/netcdf-to-zarr/2f0c87d2-20d1-4054-a11c-9803c5810b91/20190923090000-JPL-L4_GHRSST-SSTfnd-MUR-GLOB-v02.0-fv04.1.zarr',\n",
       " 's3://harmony-prod-staging/public/harmony/netcdf-to-zarr/2f0c87d2-20d1-4054-a11c-9803c5810b91/20190924090000-JPL-L4_GHRSST-SSTfnd-MUR-GLOB-v02.0-fv04.1.zarr',\n",
       " 's3://harmony-prod-staging/public/harmony/netcdf-to-zarr/2f0c87d2-20d1-4054-a11c-9803c5810b91/20190925090000-JPL-L4_GHRSST-SSTfnd-MUR-GLOB-v02.0-fv04.1.zarr',\n",
       " 's3://harmony-prod-staging/public/harmony/netcdf-to-zarr/2f0c87d2-20d1-4054-a11c-9803c5810b91/20190926090000-JPL-L4_GHRSST-SSTfnd-MUR-GLOB-v02.0-fv04.1.zarr',\n",
       " 's3://harmony-prod-staging/public/harmony/netcdf-to-zarr/2f0c87d2-20d1-4054-a11c-9803c5810b91/20190927090000-JPL-L4_GHRSST-SSTfnd-MUR-GLOB-v02.0-fv04.1.zarr',\n",
       " 's3://harmony-prod-staging/public/harmony/netcdf-to-zarr/2f0c87d2-20d1-4054-a11c-9803c5810b91/20190928090000-JPL-L4_GHRSST-SSTfnd-MUR-GLOB-v02.0-fv04.1.zarr',\n",
       " 's3://harmony-prod-staging/public/harmony/netcdf-to-zarr/2f0c87d2-20d1-4054-a11c-9803c5810b91/20190929090000-JPL-L4_GHRSST-SSTfnd-MUR-GLOB-v02.0-fv04.1.zarr',\n",
       " 's3://harmony-prod-staging/public/harmony/netcdf-to-zarr/2f0c87d2-20d1-4054-a11c-9803c5810b91/20190930090000-JPL-L4_GHRSST-SSTfnd-MUR-GLOB-v02.0-fv04.1.zarr',\n",
       " 's3://harmony-prod-staging/public/harmony/netcdf-to-zarr/2f0c87d2-20d1-4054-a11c-9803c5810b91/20191001090000-JPL-L4_GHRSST-SSTfnd-MUR-GLOB-v02.0-fv04.1.zarr',\n",
       " 's3://harmony-prod-staging/public/harmony/netcdf-to-zarr/2f0c87d2-20d1-4054-a11c-9803c5810b91/20191002090000-JPL-L4_GHRSST-SSTfnd-MUR-GLOB-v02.0-fv04.1.zarr',\n",
       " 's3://harmony-prod-staging/public/harmony/netcdf-to-zarr/2f0c87d2-20d1-4054-a11c-9803c5810b91/20191003090000-JPL-L4_GHRSST-SSTfnd-MUR-GLOB-v02.0-fv04.1.zarr',\n",
       " 's3://harmony-prod-staging/public/harmony/netcdf-to-zarr/2f0c87d2-20d1-4054-a11c-9803c5810b91/20191004090000-JPL-L4_GHRSST-SSTfnd-MUR-GLOB-v02.0-fv04.1.zarr',\n",
       " 's3://harmony-prod-staging/public/harmony/netcdf-to-zarr/2f0c87d2-20d1-4054-a11c-9803c5810b91/20191005090000-JPL-L4_GHRSST-SSTfnd-MUR-GLOB-v02.0-fv04.1.zarr',\n",
       " 's3://harmony-prod-staging/public/harmony/netcdf-to-zarr/2f0c87d2-20d1-4054-a11c-9803c5810b91/20191006090000-JPL-L4_GHRSST-SSTfnd-MUR-GLOB-v02.0-fv04.1.zarr',\n",
       " 's3://harmony-prod-staging/public/harmony/netcdf-to-zarr/2f0c87d2-20d1-4054-a11c-9803c5810b91/20191007090000-JPL-L4_GHRSST-SSTfnd-MUR-GLOB-v02.0-fv04.1.zarr',\n",
       " 's3://harmony-prod-staging/public/harmony/netcdf-to-zarr/2f0c87d2-20d1-4054-a11c-9803c5810b91/20191008090000-JPL-L4_GHRSST-SSTfnd-MUR-GLOB-v02.0-fv04.1.zarr',\n",
       " 's3://harmony-prod-staging/public/harmony/netcdf-to-zarr/2f0c87d2-20d1-4054-a11c-9803c5810b91/20191009090000-JPL-L4_GHRSST-SSTfnd-MUR-GLOB-v02.0-fv04.1.zarr',\n",
       " 's3://harmony-prod-staging/public/harmony/netcdf-to-zarr/2f0c87d2-20d1-4054-a11c-9803c5810b91/20191010090000-JPL-L4_GHRSST-SSTfnd-MUR-GLOB-v02.0-fv04.1.zarr',\n",
       " 's3://harmony-prod-staging/public/harmony/netcdf-to-zarr/2f0c87d2-20d1-4054-a11c-9803c5810b91/20191011090000-JPL-L4_GHRSST-SSTfnd-MUR-GLOB-v02.0-fv04.1.zarr',\n",
       " 's3://harmony-prod-staging/public/harmony/netcdf-to-zarr/2f0c87d2-20d1-4054-a11c-9803c5810b91/20191012090000-JPL-L4_GHRSST-SSTfnd-MUR-GLOB-v02.0-fv04.1.zarr',\n",
       " 's3://harmony-prod-staging/public/harmony/netcdf-to-zarr/2f0c87d2-20d1-4054-a11c-9803c5810b91/20191013090000-JPL-L4_GHRSST-SSTfnd-MUR-GLOB-v02.0-fv04.1.zarr',\n",
       " 's3://harmony-prod-staging/public/harmony/netcdf-to-zarr/2f0c87d2-20d1-4054-a11c-9803c5810b91/20191014090000-JPL-L4_GHRSST-SSTfnd-MUR-GLOB-v02.0-fv04.1.zarr',\n",
       " 's3://harmony-prod-staging/public/harmony/netcdf-to-zarr/2f0c87d2-20d1-4054-a11c-9803c5810b91/20191015090000-JPL-L4_GHRSST-SSTfnd-MUR-GLOB-v02.0-fv04.1.zarr',\n",
       " 's3://harmony-prod-staging/public/harmony/netcdf-to-zarr/2f0c87d2-20d1-4054-a11c-9803c5810b91/20191016090000-JPL-L4_GHRSST-SSTfnd-MUR-GLOB-v02.0-fv04.1.zarr',\n",
       " 's3://harmony-prod-staging/public/harmony/netcdf-to-zarr/2f0c87d2-20d1-4054-a11c-9803c5810b91/20191017090000-JPL-L4_GHRSST-SSTfnd-MUR-GLOB-v02.0-fv04.1.zarr',\n",
       " 's3://harmony-prod-staging/public/harmony/netcdf-to-zarr/2f0c87d2-20d1-4054-a11c-9803c5810b91/20191018090000-JPL-L4_GHRSST-SSTfnd-MUR-GLOB-v02.0-fv04.1.zarr',\n",
       " 's3://harmony-prod-staging/public/harmony/netcdf-to-zarr/2f0c87d2-20d1-4054-a11c-9803c5810b91/20191019090000-JPL-L4_GHRSST-SSTfnd-MUR-GLOB-v02.0-fv04.1.zarr',\n",
       " 's3://harmony-prod-staging/public/harmony/netcdf-to-zarr/2f0c87d2-20d1-4054-a11c-9803c5810b91/20191020090000-JPL-L4_GHRSST-SSTfnd-MUR-GLOB-v02.0-fv04.1.zarr',\n",
       " 's3://harmony-prod-staging/public/harmony/netcdf-to-zarr/2f0c87d2-20d1-4054-a11c-9803c5810b91/20191021090000-JPL-L4_GHRSST-SSTfnd-MUR-GLOB-v02.0-fv04.1.zarr',\n",
       " 's3://harmony-prod-staging/public/harmony/netcdf-to-zarr/2f0c87d2-20d1-4054-a11c-9803c5810b91/20191022090000-JPL-L4_GHRSST-SSTfnd-MUR-GLOB-v02.0-fv04.1.zarr',\n",
       " 's3://harmony-prod-staging/public/harmony/netcdf-to-zarr/2f0c87d2-20d1-4054-a11c-9803c5810b91/20191023090000-JPL-L4_GHRSST-SSTfnd-MUR-GLOB-v02.0-fv04.1.zarr',\n",
       " 's3://harmony-prod-staging/public/harmony/netcdf-to-zarr/2f0c87d2-20d1-4054-a11c-9803c5810b91/20191024090000-JPL-L4_GHRSST-SSTfnd-MUR-GLOB-v02.0-fv04.1.zarr',\n",
       " 's3://harmony-prod-staging/public/harmony/netcdf-to-zarr/2f0c87d2-20d1-4054-a11c-9803c5810b91/20191025090000-JPL-L4_GHRSST-SSTfnd-MUR-GLOB-v02.0-fv04.1.zarr',\n",
       " 's3://harmony-prod-staging/public/harmony/netcdf-to-zarr/2f0c87d2-20d1-4054-a11c-9803c5810b91/20191026090000-JPL-L4_GHRSST-SSTfnd-MUR-GLOB-v02.0-fv04.1.zarr',\n",
       " 's3://harmony-prod-staging/public/harmony/netcdf-to-zarr/2f0c87d2-20d1-4054-a11c-9803c5810b91/20191027090000-JPL-L4_GHRSST-SSTfnd-MUR-GLOB-v02.0-fv04.1.zarr',\n",
       " 's3://harmony-prod-staging/public/harmony/netcdf-to-zarr/2f0c87d2-20d1-4054-a11c-9803c5810b91/20191028090000-JPL-L4_GHRSST-SSTfnd-MUR-GLOB-v02.0-fv04.1.zarr',\n",
       " 's3://harmony-prod-staging/public/harmony/netcdf-to-zarr/2f0c87d2-20d1-4054-a11c-9803c5810b91/20191029090000-JPL-L4_GHRSST-SSTfnd-MUR-GLOB-v02.0-fv04.1.zarr',\n",
       " 's3://harmony-prod-staging/public/harmony/netcdf-to-zarr/2f0c87d2-20d1-4054-a11c-9803c5810b91/20191030090000-JPL-L4_GHRSST-SSTfnd-MUR-GLOB-v02.0-fv04.1.zarr',\n",
       " 's3://harmony-prod-staging/public/harmony/netcdf-to-zarr/2f0c87d2-20d1-4054-a11c-9803c5810b91/20191031090000-JPL-L4_GHRSST-SSTfnd-MUR-GLOB-v02.0-fv04.1.zarr',\n",
       " 's3://harmony-prod-staging/public/harmony/netcdf-to-zarr/2f0c87d2-20d1-4054-a11c-9803c5810b91/20191101090000-JPL-L4_GHRSST-SSTfnd-MUR-GLOB-v02.0-fv04.1.zarr',\n",
       " 's3://harmony-prod-staging/public/harmony/netcdf-to-zarr/2f0c87d2-20d1-4054-a11c-9803c5810b91/20191102090000-JPL-L4_GHRSST-SSTfnd-MUR-GLOB-v02.0-fv04.1.zarr',\n",
       " 's3://harmony-prod-staging/public/harmony/netcdf-to-zarr/2f0c87d2-20d1-4054-a11c-9803c5810b91/20191103090000-JPL-L4_GHRSST-SSTfnd-MUR-GLOB-v02.0-fv04.1.zarr',\n",
       " 's3://harmony-prod-staging/public/harmony/netcdf-to-zarr/2f0c87d2-20d1-4054-a11c-9803c5810b91/20191104090000-JPL-L4_GHRSST-SSTfnd-MUR-GLOB-v02.0-fv04.1.zarr',\n",
       " 's3://harmony-prod-staging/public/harmony/netcdf-to-zarr/2f0c87d2-20d1-4054-a11c-9803c5810b91/20191105090000-JPL-L4_GHRSST-SSTfnd-MUR-GLOB-v02.0-fv04.1.zarr',\n",
       " 's3://harmony-prod-staging/public/harmony/netcdf-to-zarr/2f0c87d2-20d1-4054-a11c-9803c5810b91/20191106090000-JPL-L4_GHRSST-SSTfnd-MUR-GLOB-v02.0-fv04.1.zarr',\n",
       " 's3://harmony-prod-staging/public/harmony/netcdf-to-zarr/2f0c87d2-20d1-4054-a11c-9803c5810b91/20191107090000-JPL-L4_GHRSST-SSTfnd-MUR-GLOB-v02.0-fv04.1.zarr',\n",
       " 's3://harmony-prod-staging/public/harmony/netcdf-to-zarr/2f0c87d2-20d1-4054-a11c-9803c5810b91/20191108090000-JPL-L4_GHRSST-SSTfnd-MUR-GLOB-v02.0-fv04.1.zarr',\n",
       " 's3://harmony-prod-staging/public/harmony/netcdf-to-zarr/2f0c87d2-20d1-4054-a11c-9803c5810b91/20191109090000-JPL-L4_GHRSST-SSTfnd-MUR-GLOB-v02.0-fv04.1.zarr',\n",
       " 's3://harmony-prod-staging/public/harmony/netcdf-to-zarr/2f0c87d2-20d1-4054-a11c-9803c5810b91/20191110090000-JPL-L4_GHRSST-SSTfnd-MUR-GLOB-v02.0-fv04.1.zarr',\n",
       " 's3://harmony-prod-staging/public/harmony/netcdf-to-zarr/2f0c87d2-20d1-4054-a11c-9803c5810b91/20191111090000-JPL-L4_GHRSST-SSTfnd-MUR-GLOB-v02.0-fv04.1.zarr',\n",
       " 's3://harmony-prod-staging/public/harmony/netcdf-to-zarr/2f0c87d2-20d1-4054-a11c-9803c5810b91/20191112090000-JPL-L4_GHRSST-SSTfnd-MUR-GLOB-v02.0-fv04.1.zarr',\n",
       " 's3://harmony-prod-staging/public/harmony/netcdf-to-zarr/2f0c87d2-20d1-4054-a11c-9803c5810b91/20191113090000-JPL-L4_GHRSST-SSTfnd-MUR-GLOB-v02.0-fv04.1.zarr',\n",
       " 's3://harmony-prod-staging/public/harmony/netcdf-to-zarr/2f0c87d2-20d1-4054-a11c-9803c5810b91/20191114090000-JPL-L4_GHRSST-SSTfnd-MUR-GLOB-v02.0-fv04.1.zarr',\n",
       " 's3://harmony-prod-staging/public/harmony/netcdf-to-zarr/2f0c87d2-20d1-4054-a11c-9803c5810b91/20191115090000-JPL-L4_GHRSST-SSTfnd-MUR-GLOB-v02.0-fv04.1.zarr',\n",
       " 's3://harmony-prod-staging/public/harmony/netcdf-to-zarr/2f0c87d2-20d1-4054-a11c-9803c5810b91/20191116090000-JPL-L4_GHRSST-SSTfnd-MUR-GLOB-v02.0-fv04.1.zarr',\n",
       " 's3://harmony-prod-staging/public/harmony/netcdf-to-zarr/2f0c87d2-20d1-4054-a11c-9803c5810b91/20191117090000-JPL-L4_GHRSST-SSTfnd-MUR-GLOB-v02.0-fv04.1.zarr',\n",
       " 's3://harmony-prod-staging/public/harmony/netcdf-to-zarr/2f0c87d2-20d1-4054-a11c-9803c5810b91/20191118090000-JPL-L4_GHRSST-SSTfnd-MUR-GLOB-v02.0-fv04.1.zarr',\n",
       " 's3://harmony-prod-staging/public/harmony/netcdf-to-zarr/2f0c87d2-20d1-4054-a11c-9803c5810b91/20191119090000-JPL-L4_GHRSST-SSTfnd-MUR-GLOB-v02.0-fv04.1.zarr',\n",
       " 's3://harmony-prod-staging/public/harmony/netcdf-to-zarr/2f0c87d2-20d1-4054-a11c-9803c5810b91/20191120090000-JPL-L4_GHRSST-SSTfnd-MUR-GLOB-v02.0-fv04.1.zarr',\n",
       " 's3://harmony-prod-staging/public/harmony/netcdf-to-zarr/2f0c87d2-20d1-4054-a11c-9803c5810b91/20191121090000-JPL-L4_GHRSST-SSTfnd-MUR-GLOB-v02.0-fv04.1.zarr',\n",
       " 's3://harmony-prod-staging/public/harmony/netcdf-to-zarr/2f0c87d2-20d1-4054-a11c-9803c5810b91/20191122090000-JPL-L4_GHRSST-SSTfnd-MUR-GLOB-v02.0-fv04.1.zarr',\n",
       " 's3://harmony-prod-staging/public/harmony/netcdf-to-zarr/2f0c87d2-20d1-4054-a11c-9803c5810b91/20191123090000-JPL-L4_GHRSST-SSTfnd-MUR-GLOB-v02.0-fv04.1.zarr',\n",
       " 's3://harmony-prod-staging/public/harmony/netcdf-to-zarr/2f0c87d2-20d1-4054-a11c-9803c5810b91/20191124090000-JPL-L4_GHRSST-SSTfnd-MUR-GLOB-v02.0-fv04.1.zarr',\n",
       " 's3://harmony-prod-staging/public/harmony/netcdf-to-zarr/2f0c87d2-20d1-4054-a11c-9803c5810b91/20191125090000-JPL-L4_GHRSST-SSTfnd-MUR-GLOB-v02.0-fv04.1.zarr',\n",
       " 's3://harmony-prod-staging/public/harmony/netcdf-to-zarr/2f0c87d2-20d1-4054-a11c-9803c5810b91/20191126090000-JPL-L4_GHRSST-SSTfnd-MUR-GLOB-v02.0-fv04.1.zarr',\n",
       " 's3://harmony-prod-staging/public/harmony/netcdf-to-zarr/2f0c87d2-20d1-4054-a11c-9803c5810b91/20191127090000-JPL-L4_GHRSST-SSTfnd-MUR-GLOB-v02.0-fv04.1.zarr',\n",
       " 's3://harmony-prod-staging/public/harmony/netcdf-to-zarr/2f0c87d2-20d1-4054-a11c-9803c5810b91/20191128090000-JPL-L4_GHRSST-SSTfnd-MUR-GLOB-v02.0-fv04.1.zarr',\n",
       " 's3://harmony-prod-staging/public/harmony/netcdf-to-zarr/2f0c87d2-20d1-4054-a11c-9803c5810b91/20191129090000-JPL-L4_GHRSST-SSTfnd-MUR-GLOB-v02.0-fv04.1.zarr',\n",
       " 's3://harmony-prod-staging/public/harmony/netcdf-to-zarr/2f0c87d2-20d1-4054-a11c-9803c5810b91/20191130090000-JPL-L4_GHRSST-SSTfnd-MUR-GLOB-v02.0-fv04.1.zarr',\n",
       " 's3://harmony-prod-staging/public/harmony/netcdf-to-zarr/2f0c87d2-20d1-4054-a11c-9803c5810b91/20191201090000-JPL-L4_GHRSST-SSTfnd-MUR-GLOB-v02.0-fv04.1.zarr',\n",
       " 's3://harmony-prod-staging/public/harmony/netcdf-to-zarr/2f0c87d2-20d1-4054-a11c-9803c5810b91/20191202090000-JPL-L4_GHRSST-SSTfnd-MUR-GLOB-v02.0-fv04.1.zarr',\n",
       " 's3://harmony-prod-staging/public/harmony/netcdf-to-zarr/2f0c87d2-20d1-4054-a11c-9803c5810b91/20191203090000-JPL-L4_GHRSST-SSTfnd-MUR-GLOB-v02.0-fv04.1.zarr',\n",
       " 's3://harmony-prod-staging/public/harmony/netcdf-to-zarr/2f0c87d2-20d1-4054-a11c-9803c5810b91/20191204090000-JPL-L4_GHRSST-SSTfnd-MUR-GLOB-v02.0-fv04.1.zarr',\n",
       " 's3://harmony-prod-staging/public/harmony/netcdf-to-zarr/2f0c87d2-20d1-4054-a11c-9803c5810b91/20191205090000-JPL-L4_GHRSST-SSTfnd-MUR-GLOB-v02.0-fv04.1.zarr',\n",
       " 's3://harmony-prod-staging/public/harmony/netcdf-to-zarr/2f0c87d2-20d1-4054-a11c-9803c5810b91/20191206090000-JPL-L4_GHRSST-SSTfnd-MUR-GLOB-v02.0-fv04.1.zarr',\n",
       " 's3://harmony-prod-staging/public/harmony/netcdf-to-zarr/2f0c87d2-20d1-4054-a11c-9803c5810b91/20191207090000-JPL-L4_GHRSST-SSTfnd-MUR-GLOB-v02.0-fv04.1.zarr',\n",
       " 's3://harmony-prod-staging/public/harmony/netcdf-to-zarr/2f0c87d2-20d1-4054-a11c-9803c5810b91/20191208090000-JPL-L4_GHRSST-SSTfnd-MUR-GLOB-v02.0-fv04.1.zarr',\n",
       " 's3://harmony-prod-staging/public/harmony/netcdf-to-zarr/2f0c87d2-20d1-4054-a11c-9803c5810b91/20191209090000-JPL-L4_GHRSST-SSTfnd-MUR-GLOB-v02.0-fv04.1.zarr',\n",
       " 's3://harmony-prod-staging/public/harmony/netcdf-to-zarr/2f0c87d2-20d1-4054-a11c-9803c5810b91/20191210090000-JPL-L4_GHRSST-SSTfnd-MUR-GLOB-v02.0-fv04.1.zarr',\n",
       " 's3://harmony-prod-staging/public/harmony/netcdf-to-zarr/2f0c87d2-20d1-4054-a11c-9803c5810b91/20191211090000-JPL-L4_GHRSST-SSTfnd-MUR-GLOB-v02.0-fv04.1.zarr',\n",
       " 's3://harmony-prod-staging/public/harmony/netcdf-to-zarr/2f0c87d2-20d1-4054-a11c-9803c5810b91/20191212090000-JPL-L4_GHRSST-SSTfnd-MUR-GLOB-v02.0-fv04.1.zarr',\n",
       " 's3://harmony-prod-staging/public/harmony/netcdf-to-zarr/2f0c87d2-20d1-4054-a11c-9803c5810b91/20191213090000-JPL-L4_GHRSST-SSTfnd-MUR-GLOB-v02.0-fv04.1.zarr',\n",
       " 's3://harmony-prod-staging/public/harmony/netcdf-to-zarr/2f0c87d2-20d1-4054-a11c-9803c5810b91/20191214090000-JPL-L4_GHRSST-SSTfnd-MUR-GLOB-v02.0-fv04.1.zarr',\n",
       " 's3://harmony-prod-staging/public/harmony/netcdf-to-zarr/2f0c87d2-20d1-4054-a11c-9803c5810b91/20191215090000-JPL-L4_GHRSST-SSTfnd-MUR-GLOB-v02.0-fv04.1.zarr',\n",
       " 's3://harmony-prod-staging/public/harmony/netcdf-to-zarr/2f0c87d2-20d1-4054-a11c-9803c5810b91/20191216090000-JPL-L4_GHRSST-SSTfnd-MUR-GLOB-v02.0-fv04.1.zarr',\n",
       " 's3://harmony-prod-staging/public/harmony/netcdf-to-zarr/2f0c87d2-20d1-4054-a11c-9803c5810b91/20191217090000-JPL-L4_GHRSST-SSTfnd-MUR-GLOB-v02.0-fv04.1.zarr',\n",
       " 's3://harmony-prod-staging/public/harmony/netcdf-to-zarr/2f0c87d2-20d1-4054-a11c-9803c5810b91/20191218090000-JPL-L4_GHRSST-SSTfnd-MUR-GLOB-v02.0-fv04.1.zarr',\n",
       " 's3://harmony-prod-staging/public/harmony/netcdf-to-zarr/2f0c87d2-20d1-4054-a11c-9803c5810b91/20191219090000-JPL-L4_GHRSST-SSTfnd-MUR-GLOB-v02.0-fv04.1.zarr',\n",
       " 's3://harmony-prod-staging/public/harmony/netcdf-to-zarr/2f0c87d2-20d1-4054-a11c-9803c5810b91/20191220090000-JPL-L4_GHRSST-SSTfnd-MUR-GLOB-v02.0-fv04.1.zarr',\n",
       " 's3://harmony-prod-staging/public/harmony/netcdf-to-zarr/2f0c87d2-20d1-4054-a11c-9803c5810b91/20191221090000-JPL-L4_GHRSST-SSTfnd-MUR-GLOB-v02.0-fv04.1.zarr',\n",
       " 's3://harmony-prod-staging/public/harmony/netcdf-to-zarr/2f0c87d2-20d1-4054-a11c-9803c5810b91/20191222090000-JPL-L4_GHRSST-SSTfnd-MUR-GLOB-v02.0-fv04.1.zarr',\n",
       " 's3://harmony-prod-staging/public/harmony/netcdf-to-zarr/2f0c87d2-20d1-4054-a11c-9803c5810b91/20191223090000-JPL-L4_GHRSST-SSTfnd-MUR-GLOB-v02.0-fv04.1.zarr',\n",
       " 's3://harmony-prod-staging/public/harmony/netcdf-to-zarr/2f0c87d2-20d1-4054-a11c-9803c5810b91/20191224090000-JPL-L4_GHRSST-SSTfnd-MUR-GLOB-v02.0-fv04.1.zarr',\n",
       " 's3://harmony-prod-staging/public/harmony/netcdf-to-zarr/2f0c87d2-20d1-4054-a11c-9803c5810b91/20191225090000-JPL-L4_GHRSST-SSTfnd-MUR-GLOB-v02.0-fv04.1.zarr',\n",
       " 's3://harmony-prod-staging/public/harmony/netcdf-to-zarr/2f0c87d2-20d1-4054-a11c-9803c5810b91/20191226090000-JPL-L4_GHRSST-SSTfnd-MUR-GLOB-v02.0-fv04.1.zarr',\n",
       " 's3://harmony-prod-staging/public/harmony/netcdf-to-zarr/2f0c87d2-20d1-4054-a11c-9803c5810b91/20191227090000-JPL-L4_GHRSST-SSTfnd-MUR-GLOB-v02.0-fv04.1.zarr',\n",
       " 's3://harmony-prod-staging/public/harmony/netcdf-to-zarr/2f0c87d2-20d1-4054-a11c-9803c5810b91/20191228090000-JPL-L4_GHRSST-SSTfnd-MUR-GLOB-v02.0-fv04.1.zarr',\n",
       " 's3://harmony-prod-staging/public/harmony/netcdf-to-zarr/2f0c87d2-20d1-4054-a11c-9803c5810b91/20191229090000-JPL-L4_GHRSST-SSTfnd-MUR-GLOB-v02.0-fv04.1.zarr',\n",
       " 's3://harmony-prod-staging/public/harmony/netcdf-to-zarr/2f0c87d2-20d1-4054-a11c-9803c5810b91/20191230090000-JPL-L4_GHRSST-SSTfnd-MUR-GLOB-v02.0-fv04.1.zarr',\n",
       " 's3://harmony-prod-staging/public/harmony/netcdf-to-zarr/2f0c87d2-20d1-4054-a11c-9803c5810b91/20191231090000-JPL-L4_GHRSST-SSTfnd-MUR-GLOB-v02.0-fv04.1.zarr',\n",
       " 's3://harmony-prod-staging/public/harmony/netcdf-to-zarr/2f0c87d2-20d1-4054-a11c-9803c5810b91/20200101090000-JPL-L4_GHRSST-SSTfnd-MUR-GLOB-v02.0-fv04.1.zarr',\n",
       " 's3://harmony-prod-staging/public/harmony/netcdf-to-zarr/2f0c87d2-20d1-4054-a11c-9803c5810b91/20200102090000-JPL-L4_GHRSST-SSTfnd-MUR-GLOB-v02.0-fv04.1.zarr',\n",
       " 's3://harmony-prod-staging/public/harmony/netcdf-to-zarr/2f0c87d2-20d1-4054-a11c-9803c5810b91/20200103090000-JPL-L4_GHRSST-SSTfnd-MUR-GLOB-v02.0-fv04.1.zarr',\n",
       " 's3://harmony-prod-staging/public/harmony/netcdf-to-zarr/2f0c87d2-20d1-4054-a11c-9803c5810b91/20200104090000-JPL-L4_GHRSST-SSTfnd-MUR-GLOB-v02.0-fv04.1.zarr',\n",
       " 's3://harmony-prod-staging/public/harmony/netcdf-to-zarr/2f0c87d2-20d1-4054-a11c-9803c5810b91/20200105090000-JPL-L4_GHRSST-SSTfnd-MUR-GLOB-v02.0-fv04.1.zarr',\n",
       " 's3://harmony-prod-staging/public/harmony/netcdf-to-zarr/2f0c87d2-20d1-4054-a11c-9803c5810b91/20200106090000-JPL-L4_GHRSST-SSTfnd-MUR-GLOB-v02.0-fv04.1.zarr',\n",
       " 's3://harmony-prod-staging/public/harmony/netcdf-to-zarr/2f0c87d2-20d1-4054-a11c-9803c5810b91/20200107090000-JPL-L4_GHRSST-SSTfnd-MUR-GLOB-v02.0-fv04.1.zarr',\n",
       " 's3://harmony-prod-staging/public/harmony/netcdf-to-zarr/2f0c87d2-20d1-4054-a11c-9803c5810b91/20200108090000-JPL-L4_GHRSST-SSTfnd-MUR-GLOB-v02.0-fv04.1.zarr',\n",
       " 's3://harmony-prod-staging/public/harmony/netcdf-to-zarr/2f0c87d2-20d1-4054-a11c-9803c5810b91/20200109090000-JPL-L4_GHRSST-SSTfnd-MUR-GLOB-v02.0-fv04.1.zarr',\n",
       " 's3://harmony-prod-staging/public/harmony/netcdf-to-zarr/2f0c87d2-20d1-4054-a11c-9803c5810b91/20200110090000-JPL-L4_GHRSST-SSTfnd-MUR-GLOB-v02.0-fv04.1.zarr',\n",
       " 's3://harmony-prod-staging/public/harmony/netcdf-to-zarr/2f0c87d2-20d1-4054-a11c-9803c5810b91/20200111090000-JPL-L4_GHRSST-SSTfnd-MUR-GLOB-v02.0-fv04.1.zarr',\n",
       " 's3://harmony-prod-staging/public/harmony/netcdf-to-zarr/2f0c87d2-20d1-4054-a11c-9803c5810b91/20200112090000-JPL-L4_GHRSST-SSTfnd-MUR-GLOB-v02.0-fv04.1.zarr',\n",
       " 's3://harmony-prod-staging/public/harmony/netcdf-to-zarr/2f0c87d2-20d1-4054-a11c-9803c5810b91/20200113090000-JPL-L4_GHRSST-SSTfnd-MUR-GLOB-v02.0-fv04.1.zarr',\n",
       " 's3://harmony-prod-staging/public/harmony/netcdf-to-zarr/2f0c87d2-20d1-4054-a11c-9803c5810b91/20200114090000-JPL-L4_GHRSST-SSTfnd-MUR-GLOB-v02.0-fv04.1.zarr',\n",
       " 's3://harmony-prod-staging/public/harmony/netcdf-to-zarr/2f0c87d2-20d1-4054-a11c-9803c5810b91/20200115090000-JPL-L4_GHRSST-SSTfnd-MUR-GLOB-v02.0-fv04.1.zarr',\n",
       " 's3://harmony-prod-staging/public/harmony/netcdf-to-zarr/2f0c87d2-20d1-4054-a11c-9803c5810b91/20200116090000-JPL-L4_GHRSST-SSTfnd-MUR-GLOB-v02.0-fv04.1.zarr',\n",
       " 's3://harmony-prod-staging/public/harmony/netcdf-to-zarr/2f0c87d2-20d1-4054-a11c-9803c5810b91/20200117090000-JPL-L4_GHRSST-SSTfnd-MUR-GLOB-v02.0-fv04.1.zarr',\n",
       " 's3://harmony-prod-staging/public/harmony/netcdf-to-zarr/2f0c87d2-20d1-4054-a11c-9803c5810b91/20200118090000-JPL-L4_GHRSST-SSTfnd-MUR-GLOB-v02.0-fv04.1.zarr',\n",
       " 's3://harmony-prod-staging/public/harmony/netcdf-to-zarr/2f0c87d2-20d1-4054-a11c-9803c5810b91/20200119090000-JPL-L4_GHRSST-SSTfnd-MUR-GLOB-v02.0-fv04.1.zarr',\n",
       " 's3://harmony-prod-staging/public/harmony/netcdf-to-zarr/2f0c87d2-20d1-4054-a11c-9803c5810b91/20200120090000-JPL-L4_GHRSST-SSTfnd-MUR-GLOB-v02.0-fv04.1.zarr',\n",
       " 'https://harmony.earthdata.nasa.gov/jobs/74632965-e9fd-407d-aa78-c2b4306eeda6?page=1&limit=2000']"
      ]
     },
     "execution_count": 13,
     "metadata": {},
     "output_type": "execute_result"
    }
   ],
   "source": [
    "links"
   ]
  },
  {
   "cell_type": "code",
   "execution_count": 14,
   "metadata": {},
   "outputs": [
    {
     "data": {
      "text/plain": [
       "'s3://harmony-prod-staging/public/harmony/netcdf-to-zarr/2f0c87d2-20d1-4054-a11c-9803c5810b91/20190801090000-JPL-L4_GHRSST-SSTfnd-MUR-GLOB-v02.0-fv04.1.zarr'"
      ]
     },
     "execution_count": 14,
     "metadata": {},
     "output_type": "execute_result"
    }
   ],
   "source": [
    "links[4]"
   ]
  },
  {
   "cell_type": "code",
   "execution_count": 15,
   "metadata": {},
   "outputs": [
    {
     "data": {
      "text/plain": [
       "'s3://harmony-prod-staging/public/harmony/netcdf-to-zarr/2f0c87d2-20d1-4054-a11c-9803c5810b91/20200120090000-JPL-L4_GHRSST-SSTfnd-MUR-GLOB-v02.0-fv04.1.zarr'"
      ]
     },
     "execution_count": 15,
     "metadata": {},
     "output_type": "execute_result"
    }
   ],
   "source": [
    "links[176]"
   ]
  },
  {
   "cell_type": "code",
   "execution_count": 16,
   "metadata": {},
   "outputs": [
    {
     "data": {
      "text/plain": [
       "['s3://harmony-prod-staging/public/harmony/netcdf-to-zarr/2f0c87d2-20d1-4054-a11c-9803c5810b91/20190801090000-JPL-L4_GHRSST-SSTfnd-MUR-GLOB-v02.0-fv04.1.zarr',\n",
       " 's3://harmony-prod-staging/public/harmony/netcdf-to-zarr/2f0c87d2-20d1-4054-a11c-9803c5810b91/20190802090000-JPL-L4_GHRSST-SSTfnd-MUR-GLOB-v02.0-fv04.1.zarr',\n",
       " 's3://harmony-prod-staging/public/harmony/netcdf-to-zarr/2f0c87d2-20d1-4054-a11c-9803c5810b91/20190803090000-JPL-L4_GHRSST-SSTfnd-MUR-GLOB-v02.0-fv04.1.zarr',\n",
       " 's3://harmony-prod-staging/public/harmony/netcdf-to-zarr/2f0c87d2-20d1-4054-a11c-9803c5810b91/20190804090000-JPL-L4_GHRSST-SSTfnd-MUR-GLOB-v02.0-fv04.1.zarr',\n",
       " 's3://harmony-prod-staging/public/harmony/netcdf-to-zarr/2f0c87d2-20d1-4054-a11c-9803c5810b91/20190805090000-JPL-L4_GHRSST-SSTfnd-MUR-GLOB-v02.0-fv04.1.zarr',\n",
       " 's3://harmony-prod-staging/public/harmony/netcdf-to-zarr/2f0c87d2-20d1-4054-a11c-9803c5810b91/20190806090000-JPL-L4_GHRSST-SSTfnd-MUR-GLOB-v02.0-fv04.1.zarr',\n",
       " 's3://harmony-prod-staging/public/harmony/netcdf-to-zarr/2f0c87d2-20d1-4054-a11c-9803c5810b91/20190807090000-JPL-L4_GHRSST-SSTfnd-MUR-GLOB-v02.0-fv04.1.zarr',\n",
       " 's3://harmony-prod-staging/public/harmony/netcdf-to-zarr/2f0c87d2-20d1-4054-a11c-9803c5810b91/20190808090000-JPL-L4_GHRSST-SSTfnd-MUR-GLOB-v02.0-fv04.1.zarr',\n",
       " 's3://harmony-prod-staging/public/harmony/netcdf-to-zarr/2f0c87d2-20d1-4054-a11c-9803c5810b91/20190809090000-JPL-L4_GHRSST-SSTfnd-MUR-GLOB-v02.0-fv04.1.zarr',\n",
       " 's3://harmony-prod-staging/public/harmony/netcdf-to-zarr/2f0c87d2-20d1-4054-a11c-9803c5810b91/20190810090000-JPL-L4_GHRSST-SSTfnd-MUR-GLOB-v02.0-fv04.1.zarr',\n",
       " 's3://harmony-prod-staging/public/harmony/netcdf-to-zarr/2f0c87d2-20d1-4054-a11c-9803c5810b91/20190811090000-JPL-L4_GHRSST-SSTfnd-MUR-GLOB-v02.0-fv04.1.zarr',\n",
       " 's3://harmony-prod-staging/public/harmony/netcdf-to-zarr/2f0c87d2-20d1-4054-a11c-9803c5810b91/20190812090000-JPL-L4_GHRSST-SSTfnd-MUR-GLOB-v02.0-fv04.1.zarr',\n",
       " 's3://harmony-prod-staging/public/harmony/netcdf-to-zarr/2f0c87d2-20d1-4054-a11c-9803c5810b91/20190813090000-JPL-L4_GHRSST-SSTfnd-MUR-GLOB-v02.0-fv04.1.zarr',\n",
       " 's3://harmony-prod-staging/public/harmony/netcdf-to-zarr/2f0c87d2-20d1-4054-a11c-9803c5810b91/20190814090000-JPL-L4_GHRSST-SSTfnd-MUR-GLOB-v02.0-fv04.1.zarr',\n",
       " 's3://harmony-prod-staging/public/harmony/netcdf-to-zarr/2f0c87d2-20d1-4054-a11c-9803c5810b91/20190815090000-JPL-L4_GHRSST-SSTfnd-MUR-GLOB-v02.0-fv04.1.zarr',\n",
       " 's3://harmony-prod-staging/public/harmony/netcdf-to-zarr/2f0c87d2-20d1-4054-a11c-9803c5810b91/20190816090000-JPL-L4_GHRSST-SSTfnd-MUR-GLOB-v02.0-fv04.1.zarr',\n",
       " 's3://harmony-prod-staging/public/harmony/netcdf-to-zarr/2f0c87d2-20d1-4054-a11c-9803c5810b91/20190817090000-JPL-L4_GHRSST-SSTfnd-MUR-GLOB-v02.0-fv04.1.zarr',\n",
       " 's3://harmony-prod-staging/public/harmony/netcdf-to-zarr/2f0c87d2-20d1-4054-a11c-9803c5810b91/20190818090000-JPL-L4_GHRSST-SSTfnd-MUR-GLOB-v02.0-fv04.1.zarr',\n",
       " 's3://harmony-prod-staging/public/harmony/netcdf-to-zarr/2f0c87d2-20d1-4054-a11c-9803c5810b91/20190819090000-JPL-L4_GHRSST-SSTfnd-MUR-GLOB-v02.0-fv04.1.zarr',\n",
       " 's3://harmony-prod-staging/public/harmony/netcdf-to-zarr/2f0c87d2-20d1-4054-a11c-9803c5810b91/20190820090000-JPL-L4_GHRSST-SSTfnd-MUR-GLOB-v02.0-fv04.1.zarr',\n",
       " 's3://harmony-prod-staging/public/harmony/netcdf-to-zarr/2f0c87d2-20d1-4054-a11c-9803c5810b91/20190821090000-JPL-L4_GHRSST-SSTfnd-MUR-GLOB-v02.0-fv04.1.zarr',\n",
       " 's3://harmony-prod-staging/public/harmony/netcdf-to-zarr/2f0c87d2-20d1-4054-a11c-9803c5810b91/20190822090000-JPL-L4_GHRSST-SSTfnd-MUR-GLOB-v02.0-fv04.1.zarr',\n",
       " 's3://harmony-prod-staging/public/harmony/netcdf-to-zarr/2f0c87d2-20d1-4054-a11c-9803c5810b91/20190823090000-JPL-L4_GHRSST-SSTfnd-MUR-GLOB-v02.0-fv04.1.zarr',\n",
       " 's3://harmony-prod-staging/public/harmony/netcdf-to-zarr/2f0c87d2-20d1-4054-a11c-9803c5810b91/20190824090000-JPL-L4_GHRSST-SSTfnd-MUR-GLOB-v02.0-fv04.1.zarr',\n",
       " 's3://harmony-prod-staging/public/harmony/netcdf-to-zarr/2f0c87d2-20d1-4054-a11c-9803c5810b91/20190825090000-JPL-L4_GHRSST-SSTfnd-MUR-GLOB-v02.0-fv04.1.zarr',\n",
       " 's3://harmony-prod-staging/public/harmony/netcdf-to-zarr/2f0c87d2-20d1-4054-a11c-9803c5810b91/20190826090000-JPL-L4_GHRSST-SSTfnd-MUR-GLOB-v02.0-fv04.1.zarr',\n",
       " 's3://harmony-prod-staging/public/harmony/netcdf-to-zarr/2f0c87d2-20d1-4054-a11c-9803c5810b91/20190827090000-JPL-L4_GHRSST-SSTfnd-MUR-GLOB-v02.0-fv04.1.zarr',\n",
       " 's3://harmony-prod-staging/public/harmony/netcdf-to-zarr/2f0c87d2-20d1-4054-a11c-9803c5810b91/20190828090000-JPL-L4_GHRSST-SSTfnd-MUR-GLOB-v02.0-fv04.1.zarr',\n",
       " 's3://harmony-prod-staging/public/harmony/netcdf-to-zarr/2f0c87d2-20d1-4054-a11c-9803c5810b91/20190829090000-JPL-L4_GHRSST-SSTfnd-MUR-GLOB-v02.0-fv04.1.zarr',\n",
       " 's3://harmony-prod-staging/public/harmony/netcdf-to-zarr/2f0c87d2-20d1-4054-a11c-9803c5810b91/20190830090000-JPL-L4_GHRSST-SSTfnd-MUR-GLOB-v02.0-fv04.1.zarr',\n",
       " 's3://harmony-prod-staging/public/harmony/netcdf-to-zarr/2f0c87d2-20d1-4054-a11c-9803c5810b91/20190831090000-JPL-L4_GHRSST-SSTfnd-MUR-GLOB-v02.0-fv04.1.zarr',\n",
       " 's3://harmony-prod-staging/public/harmony/netcdf-to-zarr/2f0c87d2-20d1-4054-a11c-9803c5810b91/20190901090000-JPL-L4_GHRSST-SSTfnd-MUR-GLOB-v02.0-fv04.1.zarr',\n",
       " 's3://harmony-prod-staging/public/harmony/netcdf-to-zarr/2f0c87d2-20d1-4054-a11c-9803c5810b91/20190902090000-JPL-L4_GHRSST-SSTfnd-MUR-GLOB-v02.0-fv04.1.zarr',\n",
       " 's3://harmony-prod-staging/public/harmony/netcdf-to-zarr/2f0c87d2-20d1-4054-a11c-9803c5810b91/20190903090000-JPL-L4_GHRSST-SSTfnd-MUR-GLOB-v02.0-fv04.1.zarr',\n",
       " 's3://harmony-prod-staging/public/harmony/netcdf-to-zarr/2f0c87d2-20d1-4054-a11c-9803c5810b91/20190904090000-JPL-L4_GHRSST-SSTfnd-MUR-GLOB-v02.0-fv04.1.zarr',\n",
       " 's3://harmony-prod-staging/public/harmony/netcdf-to-zarr/2f0c87d2-20d1-4054-a11c-9803c5810b91/20190905090000-JPL-L4_GHRSST-SSTfnd-MUR-GLOB-v02.0-fv04.1.zarr',\n",
       " 's3://harmony-prod-staging/public/harmony/netcdf-to-zarr/2f0c87d2-20d1-4054-a11c-9803c5810b91/20190906090000-JPL-L4_GHRSST-SSTfnd-MUR-GLOB-v02.0-fv04.1.zarr',\n",
       " 's3://harmony-prod-staging/public/harmony/netcdf-to-zarr/2f0c87d2-20d1-4054-a11c-9803c5810b91/20190907090000-JPL-L4_GHRSST-SSTfnd-MUR-GLOB-v02.0-fv04.1.zarr',\n",
       " 's3://harmony-prod-staging/public/harmony/netcdf-to-zarr/2f0c87d2-20d1-4054-a11c-9803c5810b91/20190908090000-JPL-L4_GHRSST-SSTfnd-MUR-GLOB-v02.0-fv04.1.zarr',\n",
       " 's3://harmony-prod-staging/public/harmony/netcdf-to-zarr/2f0c87d2-20d1-4054-a11c-9803c5810b91/20190909090000-JPL-L4_GHRSST-SSTfnd-MUR-GLOB-v02.0-fv04.1.zarr',\n",
       " 's3://harmony-prod-staging/public/harmony/netcdf-to-zarr/2f0c87d2-20d1-4054-a11c-9803c5810b91/20190910090000-JPL-L4_GHRSST-SSTfnd-MUR-GLOB-v02.0-fv04.1.zarr',\n",
       " 's3://harmony-prod-staging/public/harmony/netcdf-to-zarr/2f0c87d2-20d1-4054-a11c-9803c5810b91/20190911090000-JPL-L4_GHRSST-SSTfnd-MUR-GLOB-v02.0-fv04.1.zarr',\n",
       " 's3://harmony-prod-staging/public/harmony/netcdf-to-zarr/2f0c87d2-20d1-4054-a11c-9803c5810b91/20190912090000-JPL-L4_GHRSST-SSTfnd-MUR-GLOB-v02.0-fv04.1.zarr',\n",
       " 's3://harmony-prod-staging/public/harmony/netcdf-to-zarr/2f0c87d2-20d1-4054-a11c-9803c5810b91/20190913090000-JPL-L4_GHRSST-SSTfnd-MUR-GLOB-v02.0-fv04.1.zarr',\n",
       " 's3://harmony-prod-staging/public/harmony/netcdf-to-zarr/2f0c87d2-20d1-4054-a11c-9803c5810b91/20190914090000-JPL-L4_GHRSST-SSTfnd-MUR-GLOB-v02.0-fv04.1.zarr',\n",
       " 's3://harmony-prod-staging/public/harmony/netcdf-to-zarr/2f0c87d2-20d1-4054-a11c-9803c5810b91/20190915090000-JPL-L4_GHRSST-SSTfnd-MUR-GLOB-v02.0-fv04.1.zarr',\n",
       " 's3://harmony-prod-staging/public/harmony/netcdf-to-zarr/2f0c87d2-20d1-4054-a11c-9803c5810b91/20190916090000-JPL-L4_GHRSST-SSTfnd-MUR-GLOB-v02.0-fv04.1.zarr',\n",
       " 's3://harmony-prod-staging/public/harmony/netcdf-to-zarr/2f0c87d2-20d1-4054-a11c-9803c5810b91/20190917090000-JPL-L4_GHRSST-SSTfnd-MUR-GLOB-v02.0-fv04.1.zarr',\n",
       " 's3://harmony-prod-staging/public/harmony/netcdf-to-zarr/2f0c87d2-20d1-4054-a11c-9803c5810b91/20190918090000-JPL-L4_GHRSST-SSTfnd-MUR-GLOB-v02.0-fv04.1.zarr',\n",
       " 's3://harmony-prod-staging/public/harmony/netcdf-to-zarr/2f0c87d2-20d1-4054-a11c-9803c5810b91/20190919090000-JPL-L4_GHRSST-SSTfnd-MUR-GLOB-v02.0-fv04.1.zarr',\n",
       " 's3://harmony-prod-staging/public/harmony/netcdf-to-zarr/2f0c87d2-20d1-4054-a11c-9803c5810b91/20190920090000-JPL-L4_GHRSST-SSTfnd-MUR-GLOB-v02.0-fv04.1.zarr',\n",
       " 's3://harmony-prod-staging/public/harmony/netcdf-to-zarr/2f0c87d2-20d1-4054-a11c-9803c5810b91/20190921090000-JPL-L4_GHRSST-SSTfnd-MUR-GLOB-v02.0-fv04.1.zarr',\n",
       " 's3://harmony-prod-staging/public/harmony/netcdf-to-zarr/2f0c87d2-20d1-4054-a11c-9803c5810b91/20190922090000-JPL-L4_GHRSST-SSTfnd-MUR-GLOB-v02.0-fv04.1.zarr',\n",
       " 's3://harmony-prod-staging/public/harmony/netcdf-to-zarr/2f0c87d2-20d1-4054-a11c-9803c5810b91/20190923090000-JPL-L4_GHRSST-SSTfnd-MUR-GLOB-v02.0-fv04.1.zarr',\n",
       " 's3://harmony-prod-staging/public/harmony/netcdf-to-zarr/2f0c87d2-20d1-4054-a11c-9803c5810b91/20190924090000-JPL-L4_GHRSST-SSTfnd-MUR-GLOB-v02.0-fv04.1.zarr',\n",
       " 's3://harmony-prod-staging/public/harmony/netcdf-to-zarr/2f0c87d2-20d1-4054-a11c-9803c5810b91/20190925090000-JPL-L4_GHRSST-SSTfnd-MUR-GLOB-v02.0-fv04.1.zarr',\n",
       " 's3://harmony-prod-staging/public/harmony/netcdf-to-zarr/2f0c87d2-20d1-4054-a11c-9803c5810b91/20190926090000-JPL-L4_GHRSST-SSTfnd-MUR-GLOB-v02.0-fv04.1.zarr',\n",
       " 's3://harmony-prod-staging/public/harmony/netcdf-to-zarr/2f0c87d2-20d1-4054-a11c-9803c5810b91/20190927090000-JPL-L4_GHRSST-SSTfnd-MUR-GLOB-v02.0-fv04.1.zarr',\n",
       " 's3://harmony-prod-staging/public/harmony/netcdf-to-zarr/2f0c87d2-20d1-4054-a11c-9803c5810b91/20190928090000-JPL-L4_GHRSST-SSTfnd-MUR-GLOB-v02.0-fv04.1.zarr',\n",
       " 's3://harmony-prod-staging/public/harmony/netcdf-to-zarr/2f0c87d2-20d1-4054-a11c-9803c5810b91/20190929090000-JPL-L4_GHRSST-SSTfnd-MUR-GLOB-v02.0-fv04.1.zarr',\n",
       " 's3://harmony-prod-staging/public/harmony/netcdf-to-zarr/2f0c87d2-20d1-4054-a11c-9803c5810b91/20190930090000-JPL-L4_GHRSST-SSTfnd-MUR-GLOB-v02.0-fv04.1.zarr',\n",
       " 's3://harmony-prod-staging/public/harmony/netcdf-to-zarr/2f0c87d2-20d1-4054-a11c-9803c5810b91/20191001090000-JPL-L4_GHRSST-SSTfnd-MUR-GLOB-v02.0-fv04.1.zarr',\n",
       " 's3://harmony-prod-staging/public/harmony/netcdf-to-zarr/2f0c87d2-20d1-4054-a11c-9803c5810b91/20191002090000-JPL-L4_GHRSST-SSTfnd-MUR-GLOB-v02.0-fv04.1.zarr',\n",
       " 's3://harmony-prod-staging/public/harmony/netcdf-to-zarr/2f0c87d2-20d1-4054-a11c-9803c5810b91/20191003090000-JPL-L4_GHRSST-SSTfnd-MUR-GLOB-v02.0-fv04.1.zarr',\n",
       " 's3://harmony-prod-staging/public/harmony/netcdf-to-zarr/2f0c87d2-20d1-4054-a11c-9803c5810b91/20191004090000-JPL-L4_GHRSST-SSTfnd-MUR-GLOB-v02.0-fv04.1.zarr',\n",
       " 's3://harmony-prod-staging/public/harmony/netcdf-to-zarr/2f0c87d2-20d1-4054-a11c-9803c5810b91/20191005090000-JPL-L4_GHRSST-SSTfnd-MUR-GLOB-v02.0-fv04.1.zarr',\n",
       " 's3://harmony-prod-staging/public/harmony/netcdf-to-zarr/2f0c87d2-20d1-4054-a11c-9803c5810b91/20191006090000-JPL-L4_GHRSST-SSTfnd-MUR-GLOB-v02.0-fv04.1.zarr',\n",
       " 's3://harmony-prod-staging/public/harmony/netcdf-to-zarr/2f0c87d2-20d1-4054-a11c-9803c5810b91/20191007090000-JPL-L4_GHRSST-SSTfnd-MUR-GLOB-v02.0-fv04.1.zarr',\n",
       " 's3://harmony-prod-staging/public/harmony/netcdf-to-zarr/2f0c87d2-20d1-4054-a11c-9803c5810b91/20191008090000-JPL-L4_GHRSST-SSTfnd-MUR-GLOB-v02.0-fv04.1.zarr',\n",
       " 's3://harmony-prod-staging/public/harmony/netcdf-to-zarr/2f0c87d2-20d1-4054-a11c-9803c5810b91/20191009090000-JPL-L4_GHRSST-SSTfnd-MUR-GLOB-v02.0-fv04.1.zarr',\n",
       " 's3://harmony-prod-staging/public/harmony/netcdf-to-zarr/2f0c87d2-20d1-4054-a11c-9803c5810b91/20191010090000-JPL-L4_GHRSST-SSTfnd-MUR-GLOB-v02.0-fv04.1.zarr',\n",
       " 's3://harmony-prod-staging/public/harmony/netcdf-to-zarr/2f0c87d2-20d1-4054-a11c-9803c5810b91/20191011090000-JPL-L4_GHRSST-SSTfnd-MUR-GLOB-v02.0-fv04.1.zarr',\n",
       " 's3://harmony-prod-staging/public/harmony/netcdf-to-zarr/2f0c87d2-20d1-4054-a11c-9803c5810b91/20191012090000-JPL-L4_GHRSST-SSTfnd-MUR-GLOB-v02.0-fv04.1.zarr',\n",
       " 's3://harmony-prod-staging/public/harmony/netcdf-to-zarr/2f0c87d2-20d1-4054-a11c-9803c5810b91/20191013090000-JPL-L4_GHRSST-SSTfnd-MUR-GLOB-v02.0-fv04.1.zarr',\n",
       " 's3://harmony-prod-staging/public/harmony/netcdf-to-zarr/2f0c87d2-20d1-4054-a11c-9803c5810b91/20191014090000-JPL-L4_GHRSST-SSTfnd-MUR-GLOB-v02.0-fv04.1.zarr',\n",
       " 's3://harmony-prod-staging/public/harmony/netcdf-to-zarr/2f0c87d2-20d1-4054-a11c-9803c5810b91/20191015090000-JPL-L4_GHRSST-SSTfnd-MUR-GLOB-v02.0-fv04.1.zarr',\n",
       " 's3://harmony-prod-staging/public/harmony/netcdf-to-zarr/2f0c87d2-20d1-4054-a11c-9803c5810b91/20191016090000-JPL-L4_GHRSST-SSTfnd-MUR-GLOB-v02.0-fv04.1.zarr',\n",
       " 's3://harmony-prod-staging/public/harmony/netcdf-to-zarr/2f0c87d2-20d1-4054-a11c-9803c5810b91/20191017090000-JPL-L4_GHRSST-SSTfnd-MUR-GLOB-v02.0-fv04.1.zarr',\n",
       " 's3://harmony-prod-staging/public/harmony/netcdf-to-zarr/2f0c87d2-20d1-4054-a11c-9803c5810b91/20191018090000-JPL-L4_GHRSST-SSTfnd-MUR-GLOB-v02.0-fv04.1.zarr',\n",
       " 's3://harmony-prod-staging/public/harmony/netcdf-to-zarr/2f0c87d2-20d1-4054-a11c-9803c5810b91/20191019090000-JPL-L4_GHRSST-SSTfnd-MUR-GLOB-v02.0-fv04.1.zarr',\n",
       " 's3://harmony-prod-staging/public/harmony/netcdf-to-zarr/2f0c87d2-20d1-4054-a11c-9803c5810b91/20191020090000-JPL-L4_GHRSST-SSTfnd-MUR-GLOB-v02.0-fv04.1.zarr',\n",
       " 's3://harmony-prod-staging/public/harmony/netcdf-to-zarr/2f0c87d2-20d1-4054-a11c-9803c5810b91/20191021090000-JPL-L4_GHRSST-SSTfnd-MUR-GLOB-v02.0-fv04.1.zarr',\n",
       " 's3://harmony-prod-staging/public/harmony/netcdf-to-zarr/2f0c87d2-20d1-4054-a11c-9803c5810b91/20191022090000-JPL-L4_GHRSST-SSTfnd-MUR-GLOB-v02.0-fv04.1.zarr',\n",
       " 's3://harmony-prod-staging/public/harmony/netcdf-to-zarr/2f0c87d2-20d1-4054-a11c-9803c5810b91/20191023090000-JPL-L4_GHRSST-SSTfnd-MUR-GLOB-v02.0-fv04.1.zarr',\n",
       " 's3://harmony-prod-staging/public/harmony/netcdf-to-zarr/2f0c87d2-20d1-4054-a11c-9803c5810b91/20191024090000-JPL-L4_GHRSST-SSTfnd-MUR-GLOB-v02.0-fv04.1.zarr',\n",
       " 's3://harmony-prod-staging/public/harmony/netcdf-to-zarr/2f0c87d2-20d1-4054-a11c-9803c5810b91/20191025090000-JPL-L4_GHRSST-SSTfnd-MUR-GLOB-v02.0-fv04.1.zarr',\n",
       " 's3://harmony-prod-staging/public/harmony/netcdf-to-zarr/2f0c87d2-20d1-4054-a11c-9803c5810b91/20191026090000-JPL-L4_GHRSST-SSTfnd-MUR-GLOB-v02.0-fv04.1.zarr',\n",
       " 's3://harmony-prod-staging/public/harmony/netcdf-to-zarr/2f0c87d2-20d1-4054-a11c-9803c5810b91/20191027090000-JPL-L4_GHRSST-SSTfnd-MUR-GLOB-v02.0-fv04.1.zarr',\n",
       " 's3://harmony-prod-staging/public/harmony/netcdf-to-zarr/2f0c87d2-20d1-4054-a11c-9803c5810b91/20191028090000-JPL-L4_GHRSST-SSTfnd-MUR-GLOB-v02.0-fv04.1.zarr',\n",
       " 's3://harmony-prod-staging/public/harmony/netcdf-to-zarr/2f0c87d2-20d1-4054-a11c-9803c5810b91/20191029090000-JPL-L4_GHRSST-SSTfnd-MUR-GLOB-v02.0-fv04.1.zarr',\n",
       " 's3://harmony-prod-staging/public/harmony/netcdf-to-zarr/2f0c87d2-20d1-4054-a11c-9803c5810b91/20191030090000-JPL-L4_GHRSST-SSTfnd-MUR-GLOB-v02.0-fv04.1.zarr',\n",
       " 's3://harmony-prod-staging/public/harmony/netcdf-to-zarr/2f0c87d2-20d1-4054-a11c-9803c5810b91/20191031090000-JPL-L4_GHRSST-SSTfnd-MUR-GLOB-v02.0-fv04.1.zarr',\n",
       " 's3://harmony-prod-staging/public/harmony/netcdf-to-zarr/2f0c87d2-20d1-4054-a11c-9803c5810b91/20191101090000-JPL-L4_GHRSST-SSTfnd-MUR-GLOB-v02.0-fv04.1.zarr',\n",
       " 's3://harmony-prod-staging/public/harmony/netcdf-to-zarr/2f0c87d2-20d1-4054-a11c-9803c5810b91/20191102090000-JPL-L4_GHRSST-SSTfnd-MUR-GLOB-v02.0-fv04.1.zarr',\n",
       " 's3://harmony-prod-staging/public/harmony/netcdf-to-zarr/2f0c87d2-20d1-4054-a11c-9803c5810b91/20191103090000-JPL-L4_GHRSST-SSTfnd-MUR-GLOB-v02.0-fv04.1.zarr',\n",
       " 's3://harmony-prod-staging/public/harmony/netcdf-to-zarr/2f0c87d2-20d1-4054-a11c-9803c5810b91/20191104090000-JPL-L4_GHRSST-SSTfnd-MUR-GLOB-v02.0-fv04.1.zarr',\n",
       " 's3://harmony-prod-staging/public/harmony/netcdf-to-zarr/2f0c87d2-20d1-4054-a11c-9803c5810b91/20191105090000-JPL-L4_GHRSST-SSTfnd-MUR-GLOB-v02.0-fv04.1.zarr',\n",
       " 's3://harmony-prod-staging/public/harmony/netcdf-to-zarr/2f0c87d2-20d1-4054-a11c-9803c5810b91/20191106090000-JPL-L4_GHRSST-SSTfnd-MUR-GLOB-v02.0-fv04.1.zarr',\n",
       " 's3://harmony-prod-staging/public/harmony/netcdf-to-zarr/2f0c87d2-20d1-4054-a11c-9803c5810b91/20191107090000-JPL-L4_GHRSST-SSTfnd-MUR-GLOB-v02.0-fv04.1.zarr',\n",
       " 's3://harmony-prod-staging/public/harmony/netcdf-to-zarr/2f0c87d2-20d1-4054-a11c-9803c5810b91/20191108090000-JPL-L4_GHRSST-SSTfnd-MUR-GLOB-v02.0-fv04.1.zarr',\n",
       " 's3://harmony-prod-staging/public/harmony/netcdf-to-zarr/2f0c87d2-20d1-4054-a11c-9803c5810b91/20191109090000-JPL-L4_GHRSST-SSTfnd-MUR-GLOB-v02.0-fv04.1.zarr',\n",
       " 's3://harmony-prod-staging/public/harmony/netcdf-to-zarr/2f0c87d2-20d1-4054-a11c-9803c5810b91/20191110090000-JPL-L4_GHRSST-SSTfnd-MUR-GLOB-v02.0-fv04.1.zarr',\n",
       " 's3://harmony-prod-staging/public/harmony/netcdf-to-zarr/2f0c87d2-20d1-4054-a11c-9803c5810b91/20191111090000-JPL-L4_GHRSST-SSTfnd-MUR-GLOB-v02.0-fv04.1.zarr',\n",
       " 's3://harmony-prod-staging/public/harmony/netcdf-to-zarr/2f0c87d2-20d1-4054-a11c-9803c5810b91/20191112090000-JPL-L4_GHRSST-SSTfnd-MUR-GLOB-v02.0-fv04.1.zarr',\n",
       " 's3://harmony-prod-staging/public/harmony/netcdf-to-zarr/2f0c87d2-20d1-4054-a11c-9803c5810b91/20191113090000-JPL-L4_GHRSST-SSTfnd-MUR-GLOB-v02.0-fv04.1.zarr',\n",
       " 's3://harmony-prod-staging/public/harmony/netcdf-to-zarr/2f0c87d2-20d1-4054-a11c-9803c5810b91/20191114090000-JPL-L4_GHRSST-SSTfnd-MUR-GLOB-v02.0-fv04.1.zarr',\n",
       " 's3://harmony-prod-staging/public/harmony/netcdf-to-zarr/2f0c87d2-20d1-4054-a11c-9803c5810b91/20191115090000-JPL-L4_GHRSST-SSTfnd-MUR-GLOB-v02.0-fv04.1.zarr',\n",
       " 's3://harmony-prod-staging/public/harmony/netcdf-to-zarr/2f0c87d2-20d1-4054-a11c-9803c5810b91/20191116090000-JPL-L4_GHRSST-SSTfnd-MUR-GLOB-v02.0-fv04.1.zarr',\n",
       " 's3://harmony-prod-staging/public/harmony/netcdf-to-zarr/2f0c87d2-20d1-4054-a11c-9803c5810b91/20191117090000-JPL-L4_GHRSST-SSTfnd-MUR-GLOB-v02.0-fv04.1.zarr',\n",
       " 's3://harmony-prod-staging/public/harmony/netcdf-to-zarr/2f0c87d2-20d1-4054-a11c-9803c5810b91/20191118090000-JPL-L4_GHRSST-SSTfnd-MUR-GLOB-v02.0-fv04.1.zarr',\n",
       " 's3://harmony-prod-staging/public/harmony/netcdf-to-zarr/2f0c87d2-20d1-4054-a11c-9803c5810b91/20191119090000-JPL-L4_GHRSST-SSTfnd-MUR-GLOB-v02.0-fv04.1.zarr',\n",
       " 's3://harmony-prod-staging/public/harmony/netcdf-to-zarr/2f0c87d2-20d1-4054-a11c-9803c5810b91/20191120090000-JPL-L4_GHRSST-SSTfnd-MUR-GLOB-v02.0-fv04.1.zarr',\n",
       " 's3://harmony-prod-staging/public/harmony/netcdf-to-zarr/2f0c87d2-20d1-4054-a11c-9803c5810b91/20191121090000-JPL-L4_GHRSST-SSTfnd-MUR-GLOB-v02.0-fv04.1.zarr',\n",
       " 's3://harmony-prod-staging/public/harmony/netcdf-to-zarr/2f0c87d2-20d1-4054-a11c-9803c5810b91/20191122090000-JPL-L4_GHRSST-SSTfnd-MUR-GLOB-v02.0-fv04.1.zarr',\n",
       " 's3://harmony-prod-staging/public/harmony/netcdf-to-zarr/2f0c87d2-20d1-4054-a11c-9803c5810b91/20191123090000-JPL-L4_GHRSST-SSTfnd-MUR-GLOB-v02.0-fv04.1.zarr',\n",
       " 's3://harmony-prod-staging/public/harmony/netcdf-to-zarr/2f0c87d2-20d1-4054-a11c-9803c5810b91/20191124090000-JPL-L4_GHRSST-SSTfnd-MUR-GLOB-v02.0-fv04.1.zarr',\n",
       " 's3://harmony-prod-staging/public/harmony/netcdf-to-zarr/2f0c87d2-20d1-4054-a11c-9803c5810b91/20191125090000-JPL-L4_GHRSST-SSTfnd-MUR-GLOB-v02.0-fv04.1.zarr',\n",
       " 's3://harmony-prod-staging/public/harmony/netcdf-to-zarr/2f0c87d2-20d1-4054-a11c-9803c5810b91/20191126090000-JPL-L4_GHRSST-SSTfnd-MUR-GLOB-v02.0-fv04.1.zarr',\n",
       " 's3://harmony-prod-staging/public/harmony/netcdf-to-zarr/2f0c87d2-20d1-4054-a11c-9803c5810b91/20191127090000-JPL-L4_GHRSST-SSTfnd-MUR-GLOB-v02.0-fv04.1.zarr',\n",
       " 's3://harmony-prod-staging/public/harmony/netcdf-to-zarr/2f0c87d2-20d1-4054-a11c-9803c5810b91/20191128090000-JPL-L4_GHRSST-SSTfnd-MUR-GLOB-v02.0-fv04.1.zarr',\n",
       " 's3://harmony-prod-staging/public/harmony/netcdf-to-zarr/2f0c87d2-20d1-4054-a11c-9803c5810b91/20191129090000-JPL-L4_GHRSST-SSTfnd-MUR-GLOB-v02.0-fv04.1.zarr',\n",
       " 's3://harmony-prod-staging/public/harmony/netcdf-to-zarr/2f0c87d2-20d1-4054-a11c-9803c5810b91/20191130090000-JPL-L4_GHRSST-SSTfnd-MUR-GLOB-v02.0-fv04.1.zarr',\n",
       " 's3://harmony-prod-staging/public/harmony/netcdf-to-zarr/2f0c87d2-20d1-4054-a11c-9803c5810b91/20191201090000-JPL-L4_GHRSST-SSTfnd-MUR-GLOB-v02.0-fv04.1.zarr',\n",
       " 's3://harmony-prod-staging/public/harmony/netcdf-to-zarr/2f0c87d2-20d1-4054-a11c-9803c5810b91/20191202090000-JPL-L4_GHRSST-SSTfnd-MUR-GLOB-v02.0-fv04.1.zarr',\n",
       " 's3://harmony-prod-staging/public/harmony/netcdf-to-zarr/2f0c87d2-20d1-4054-a11c-9803c5810b91/20191203090000-JPL-L4_GHRSST-SSTfnd-MUR-GLOB-v02.0-fv04.1.zarr',\n",
       " 's3://harmony-prod-staging/public/harmony/netcdf-to-zarr/2f0c87d2-20d1-4054-a11c-9803c5810b91/20191204090000-JPL-L4_GHRSST-SSTfnd-MUR-GLOB-v02.0-fv04.1.zarr',\n",
       " 's3://harmony-prod-staging/public/harmony/netcdf-to-zarr/2f0c87d2-20d1-4054-a11c-9803c5810b91/20191205090000-JPL-L4_GHRSST-SSTfnd-MUR-GLOB-v02.0-fv04.1.zarr',\n",
       " 's3://harmony-prod-staging/public/harmony/netcdf-to-zarr/2f0c87d2-20d1-4054-a11c-9803c5810b91/20191206090000-JPL-L4_GHRSST-SSTfnd-MUR-GLOB-v02.0-fv04.1.zarr',\n",
       " 's3://harmony-prod-staging/public/harmony/netcdf-to-zarr/2f0c87d2-20d1-4054-a11c-9803c5810b91/20191207090000-JPL-L4_GHRSST-SSTfnd-MUR-GLOB-v02.0-fv04.1.zarr',\n",
       " 's3://harmony-prod-staging/public/harmony/netcdf-to-zarr/2f0c87d2-20d1-4054-a11c-9803c5810b91/20191208090000-JPL-L4_GHRSST-SSTfnd-MUR-GLOB-v02.0-fv04.1.zarr',\n",
       " 's3://harmony-prod-staging/public/harmony/netcdf-to-zarr/2f0c87d2-20d1-4054-a11c-9803c5810b91/20191209090000-JPL-L4_GHRSST-SSTfnd-MUR-GLOB-v02.0-fv04.1.zarr',\n",
       " 's3://harmony-prod-staging/public/harmony/netcdf-to-zarr/2f0c87d2-20d1-4054-a11c-9803c5810b91/20191210090000-JPL-L4_GHRSST-SSTfnd-MUR-GLOB-v02.0-fv04.1.zarr',\n",
       " 's3://harmony-prod-staging/public/harmony/netcdf-to-zarr/2f0c87d2-20d1-4054-a11c-9803c5810b91/20191211090000-JPL-L4_GHRSST-SSTfnd-MUR-GLOB-v02.0-fv04.1.zarr',\n",
       " 's3://harmony-prod-staging/public/harmony/netcdf-to-zarr/2f0c87d2-20d1-4054-a11c-9803c5810b91/20191212090000-JPL-L4_GHRSST-SSTfnd-MUR-GLOB-v02.0-fv04.1.zarr',\n",
       " 's3://harmony-prod-staging/public/harmony/netcdf-to-zarr/2f0c87d2-20d1-4054-a11c-9803c5810b91/20191213090000-JPL-L4_GHRSST-SSTfnd-MUR-GLOB-v02.0-fv04.1.zarr',\n",
       " 's3://harmony-prod-staging/public/harmony/netcdf-to-zarr/2f0c87d2-20d1-4054-a11c-9803c5810b91/20191214090000-JPL-L4_GHRSST-SSTfnd-MUR-GLOB-v02.0-fv04.1.zarr',\n",
       " 's3://harmony-prod-staging/public/harmony/netcdf-to-zarr/2f0c87d2-20d1-4054-a11c-9803c5810b91/20191215090000-JPL-L4_GHRSST-SSTfnd-MUR-GLOB-v02.0-fv04.1.zarr',\n",
       " 's3://harmony-prod-staging/public/harmony/netcdf-to-zarr/2f0c87d2-20d1-4054-a11c-9803c5810b91/20191216090000-JPL-L4_GHRSST-SSTfnd-MUR-GLOB-v02.0-fv04.1.zarr',\n",
       " 's3://harmony-prod-staging/public/harmony/netcdf-to-zarr/2f0c87d2-20d1-4054-a11c-9803c5810b91/20191217090000-JPL-L4_GHRSST-SSTfnd-MUR-GLOB-v02.0-fv04.1.zarr',\n",
       " 's3://harmony-prod-staging/public/harmony/netcdf-to-zarr/2f0c87d2-20d1-4054-a11c-9803c5810b91/20191218090000-JPL-L4_GHRSST-SSTfnd-MUR-GLOB-v02.0-fv04.1.zarr',\n",
       " 's3://harmony-prod-staging/public/harmony/netcdf-to-zarr/2f0c87d2-20d1-4054-a11c-9803c5810b91/20191219090000-JPL-L4_GHRSST-SSTfnd-MUR-GLOB-v02.0-fv04.1.zarr',\n",
       " 's3://harmony-prod-staging/public/harmony/netcdf-to-zarr/2f0c87d2-20d1-4054-a11c-9803c5810b91/20191220090000-JPL-L4_GHRSST-SSTfnd-MUR-GLOB-v02.0-fv04.1.zarr',\n",
       " 's3://harmony-prod-staging/public/harmony/netcdf-to-zarr/2f0c87d2-20d1-4054-a11c-9803c5810b91/20191221090000-JPL-L4_GHRSST-SSTfnd-MUR-GLOB-v02.0-fv04.1.zarr',\n",
       " 's3://harmony-prod-staging/public/harmony/netcdf-to-zarr/2f0c87d2-20d1-4054-a11c-9803c5810b91/20191222090000-JPL-L4_GHRSST-SSTfnd-MUR-GLOB-v02.0-fv04.1.zarr',\n",
       " 's3://harmony-prod-staging/public/harmony/netcdf-to-zarr/2f0c87d2-20d1-4054-a11c-9803c5810b91/20191223090000-JPL-L4_GHRSST-SSTfnd-MUR-GLOB-v02.0-fv04.1.zarr',\n",
       " 's3://harmony-prod-staging/public/harmony/netcdf-to-zarr/2f0c87d2-20d1-4054-a11c-9803c5810b91/20191224090000-JPL-L4_GHRSST-SSTfnd-MUR-GLOB-v02.0-fv04.1.zarr',\n",
       " 's3://harmony-prod-staging/public/harmony/netcdf-to-zarr/2f0c87d2-20d1-4054-a11c-9803c5810b91/20191225090000-JPL-L4_GHRSST-SSTfnd-MUR-GLOB-v02.0-fv04.1.zarr',\n",
       " 's3://harmony-prod-staging/public/harmony/netcdf-to-zarr/2f0c87d2-20d1-4054-a11c-9803c5810b91/20191226090000-JPL-L4_GHRSST-SSTfnd-MUR-GLOB-v02.0-fv04.1.zarr',\n",
       " 's3://harmony-prod-staging/public/harmony/netcdf-to-zarr/2f0c87d2-20d1-4054-a11c-9803c5810b91/20191227090000-JPL-L4_GHRSST-SSTfnd-MUR-GLOB-v02.0-fv04.1.zarr',\n",
       " 's3://harmony-prod-staging/public/harmony/netcdf-to-zarr/2f0c87d2-20d1-4054-a11c-9803c5810b91/20191228090000-JPL-L4_GHRSST-SSTfnd-MUR-GLOB-v02.0-fv04.1.zarr',\n",
       " 's3://harmony-prod-staging/public/harmony/netcdf-to-zarr/2f0c87d2-20d1-4054-a11c-9803c5810b91/20191229090000-JPL-L4_GHRSST-SSTfnd-MUR-GLOB-v02.0-fv04.1.zarr',\n",
       " 's3://harmony-prod-staging/public/harmony/netcdf-to-zarr/2f0c87d2-20d1-4054-a11c-9803c5810b91/20191230090000-JPL-L4_GHRSST-SSTfnd-MUR-GLOB-v02.0-fv04.1.zarr',\n",
       " 's3://harmony-prod-staging/public/harmony/netcdf-to-zarr/2f0c87d2-20d1-4054-a11c-9803c5810b91/20191231090000-JPL-L4_GHRSST-SSTfnd-MUR-GLOB-v02.0-fv04.1.zarr',\n",
       " 's3://harmony-prod-staging/public/harmony/netcdf-to-zarr/2f0c87d2-20d1-4054-a11c-9803c5810b91/20200101090000-JPL-L4_GHRSST-SSTfnd-MUR-GLOB-v02.0-fv04.1.zarr',\n",
       " 's3://harmony-prod-staging/public/harmony/netcdf-to-zarr/2f0c87d2-20d1-4054-a11c-9803c5810b91/20200102090000-JPL-L4_GHRSST-SSTfnd-MUR-GLOB-v02.0-fv04.1.zarr',\n",
       " 's3://harmony-prod-staging/public/harmony/netcdf-to-zarr/2f0c87d2-20d1-4054-a11c-9803c5810b91/20200103090000-JPL-L4_GHRSST-SSTfnd-MUR-GLOB-v02.0-fv04.1.zarr',\n",
       " 's3://harmony-prod-staging/public/harmony/netcdf-to-zarr/2f0c87d2-20d1-4054-a11c-9803c5810b91/20200104090000-JPL-L4_GHRSST-SSTfnd-MUR-GLOB-v02.0-fv04.1.zarr',\n",
       " 's3://harmony-prod-staging/public/harmony/netcdf-to-zarr/2f0c87d2-20d1-4054-a11c-9803c5810b91/20200105090000-JPL-L4_GHRSST-SSTfnd-MUR-GLOB-v02.0-fv04.1.zarr',\n",
       " 's3://harmony-prod-staging/public/harmony/netcdf-to-zarr/2f0c87d2-20d1-4054-a11c-9803c5810b91/20200106090000-JPL-L4_GHRSST-SSTfnd-MUR-GLOB-v02.0-fv04.1.zarr',\n",
       " 's3://harmony-prod-staging/public/harmony/netcdf-to-zarr/2f0c87d2-20d1-4054-a11c-9803c5810b91/20200107090000-JPL-L4_GHRSST-SSTfnd-MUR-GLOB-v02.0-fv04.1.zarr',\n",
       " 's3://harmony-prod-staging/public/harmony/netcdf-to-zarr/2f0c87d2-20d1-4054-a11c-9803c5810b91/20200108090000-JPL-L4_GHRSST-SSTfnd-MUR-GLOB-v02.0-fv04.1.zarr',\n",
       " 's3://harmony-prod-staging/public/harmony/netcdf-to-zarr/2f0c87d2-20d1-4054-a11c-9803c5810b91/20200109090000-JPL-L4_GHRSST-SSTfnd-MUR-GLOB-v02.0-fv04.1.zarr',\n",
       " 's3://harmony-prod-staging/public/harmony/netcdf-to-zarr/2f0c87d2-20d1-4054-a11c-9803c5810b91/20200110090000-JPL-L4_GHRSST-SSTfnd-MUR-GLOB-v02.0-fv04.1.zarr',\n",
       " 's3://harmony-prod-staging/public/harmony/netcdf-to-zarr/2f0c87d2-20d1-4054-a11c-9803c5810b91/20200111090000-JPL-L4_GHRSST-SSTfnd-MUR-GLOB-v02.0-fv04.1.zarr',\n",
       " 's3://harmony-prod-staging/public/harmony/netcdf-to-zarr/2f0c87d2-20d1-4054-a11c-9803c5810b91/20200112090000-JPL-L4_GHRSST-SSTfnd-MUR-GLOB-v02.0-fv04.1.zarr',\n",
       " 's3://harmony-prod-staging/public/harmony/netcdf-to-zarr/2f0c87d2-20d1-4054-a11c-9803c5810b91/20200113090000-JPL-L4_GHRSST-SSTfnd-MUR-GLOB-v02.0-fv04.1.zarr',\n",
       " 's3://harmony-prod-staging/public/harmony/netcdf-to-zarr/2f0c87d2-20d1-4054-a11c-9803c5810b91/20200114090000-JPL-L4_GHRSST-SSTfnd-MUR-GLOB-v02.0-fv04.1.zarr',\n",
       " 's3://harmony-prod-staging/public/harmony/netcdf-to-zarr/2f0c87d2-20d1-4054-a11c-9803c5810b91/20200115090000-JPL-L4_GHRSST-SSTfnd-MUR-GLOB-v02.0-fv04.1.zarr',\n",
       " 's3://harmony-prod-staging/public/harmony/netcdf-to-zarr/2f0c87d2-20d1-4054-a11c-9803c5810b91/20200116090000-JPL-L4_GHRSST-SSTfnd-MUR-GLOB-v02.0-fv04.1.zarr',\n",
       " 's3://harmony-prod-staging/public/harmony/netcdf-to-zarr/2f0c87d2-20d1-4054-a11c-9803c5810b91/20200117090000-JPL-L4_GHRSST-SSTfnd-MUR-GLOB-v02.0-fv04.1.zarr',\n",
       " 's3://harmony-prod-staging/public/harmony/netcdf-to-zarr/2f0c87d2-20d1-4054-a11c-9803c5810b91/20200118090000-JPL-L4_GHRSST-SSTfnd-MUR-GLOB-v02.0-fv04.1.zarr',\n",
       " 's3://harmony-prod-staging/public/harmony/netcdf-to-zarr/2f0c87d2-20d1-4054-a11c-9803c5810b91/20200119090000-JPL-L4_GHRSST-SSTfnd-MUR-GLOB-v02.0-fv04.1.zarr',\n",
       " 's3://harmony-prod-staging/public/harmony/netcdf-to-zarr/2f0c87d2-20d1-4054-a11c-9803c5810b91/20200120090000-JPL-L4_GHRSST-SSTfnd-MUR-GLOB-v02.0-fv04.1.zarr']"
      ]
     },
     "execution_count": 16,
     "metadata": {},
     "output_type": "execute_result"
    }
   ],
   "source": [
    "zarr_urls = links[4:177]\n",
    "zarr_urls"
   ]
  },
  {
   "cell_type": "markdown",
   "metadata": {},
   "source": [
    "### Access Credentials for the Output Zarr File\n",
    "<br/>\n",
    "Credentials provided at the third and fourth urls in the list grant authenticated access to your staged S3 resources.\n",
    "\n",
    "Grab the credentials as a JSON string, load to a Python dictionary, and display their expiration date:"
   ]
  },
  {
   "cell_type": "code",
   "execution_count": 19,
   "metadata": {},
   "outputs": [
    {
     "data": {
      "text/plain": [
       "'2021-08-17T01:54:43.000Z'"
      ]
     },
     "execution_count": 19,
     "metadata": {},
     "output_type": "execute_result"
    }
   ],
   "source": [
    "with request.urlopen(f\"https://{harmony}/cloud-access\") as f:\n",
    "    creds = loads(f.read())\n",
    "\n",
    "creds['Expiration']"
   ]
  },
  {
   "cell_type": "code",
   "execution_count": 20,
   "metadata": {},
   "outputs": [],
   "source": [
    "zarr_fs = s3fs.S3FileSystem(\n",
    "    key=creds['AccessKeyId'],\n",
    "    secret=creds['SecretAccessKey'],\n",
    "    token=creds['SessionToken'],\n",
    "    client_kwargs={'region_name':'us-west-2'},\n",
    ")"
   ]
  },
  {
   "cell_type": "code",
   "execution_count": 31,
   "metadata": {},
   "outputs": [
    {
     "data": {
      "text/plain": [
       "28510632004"
      ]
     },
     "execution_count": 31,
     "metadata": {},
     "output_type": "execute_result"
    }
   ],
   "source": [
    "mur_test = xr.open_dataset(zarr_fs.get_mapper(root=links[4], check=False), engine='zarr')\n",
    "mur_test.nbytes"
   ]
  },
  {
   "cell_type": "markdown",
   "metadata": {},
   "source": [
    "### Open Staged Zarr File with s3fs"
   ]
  },
  {
   "cell_type": "code",
   "execution_count": 20,
   "metadata": {},
   "outputs": [
    {
     "ename": "ValueError",
     "evalue": "Every dimension needs a coordinate for inferring concatenation order",
     "output_type": "error",
     "traceback": [
      "\u001b[0;31m---------------------------------------------------------------------------\u001b[0m",
      "\u001b[0;31mValueError\u001b[0m                                Traceback (most recent call last)",
      "\u001b[0;32m<ipython-input-20-aa8c74dbfcf4>\u001b[0m in \u001b[0;36m<module>\u001b[0;34m\u001b[0m\n\u001b[1;32m     20\u001b[0m     \u001b[0;32mreturn\u001b[0m \u001b[0msubset_ds\u001b[0m\u001b[0;34m\u001b[0m\u001b[0;34m\u001b[0m\u001b[0m\n\u001b[1;32m     21\u001b[0m \u001b[0;34m\u001b[0m\u001b[0m\n\u001b[0;32m---> 22\u001b[0;31m mur_hawaii = xr.open_mfdataset(\n\u001b[0m\u001b[1;32m     23\u001b[0m     \u001b[0mpaths\u001b[0m\u001b[0;34m=\u001b[0m\u001b[0;34m[\u001b[0m\u001b[0mzarr_fs\u001b[0m\u001b[0;34m.\u001b[0m\u001b[0mget_mapper\u001b[0m\u001b[0;34m(\u001b[0m\u001b[0mroot\u001b[0m\u001b[0;34m=\u001b[0m\u001b[0mf\u001b[0m\u001b[0;34m,\u001b[0m \u001b[0mcheck\u001b[0m\u001b[0;34m=\u001b[0m\u001b[0;32mFalse\u001b[0m\u001b[0;34m)\u001b[0m \u001b[0;32mfor\u001b[0m \u001b[0mf\u001b[0m \u001b[0;32min\u001b[0m \u001b[0mzarr_urls\u001b[0m\u001b[0;34m]\u001b[0m\u001b[0;34m,\u001b[0m\u001b[0;34m\u001b[0m\u001b[0;34m\u001b[0m\u001b[0m\n\u001b[1;32m     24\u001b[0m     \u001b[0mpreprocess\u001b[0m\u001b[0;34m=\u001b[0m\u001b[0msubset\u001b[0m\u001b[0;34m,\u001b[0m\u001b[0;34m\u001b[0m\u001b[0;34m\u001b[0m\u001b[0m\n",
      "\u001b[0;32m~/miniconda3/lib/python3.9/site-packages/xarray/backends/api.py\u001b[0m in \u001b[0;36mopen_mfdataset\u001b[0;34m(paths, chunks, concat_dim, compat, preprocess, engine, data_vars, coords, combine, parallel, join, attrs_file, combine_attrs, **kwargs)\u001b[0m\n\u001b[1;32m    939\u001b[0m             \u001b[0;31m# Redo ordering from coordinates, ignoring how they were ordered\u001b[0m\u001b[0;34m\u001b[0m\u001b[0;34m\u001b[0m\u001b[0;34m\u001b[0m\u001b[0m\n\u001b[1;32m    940\u001b[0m             \u001b[0;31m# previously\u001b[0m\u001b[0;34m\u001b[0m\u001b[0;34m\u001b[0m\u001b[0;34m\u001b[0m\u001b[0m\n\u001b[0;32m--> 941\u001b[0;31m             combined = combine_by_coords(\n\u001b[0m\u001b[1;32m    942\u001b[0m                 \u001b[0mdatasets\u001b[0m\u001b[0;34m,\u001b[0m\u001b[0;34m\u001b[0m\u001b[0;34m\u001b[0m\u001b[0m\n\u001b[1;32m    943\u001b[0m                 \u001b[0mcompat\u001b[0m\u001b[0;34m=\u001b[0m\u001b[0mcompat\u001b[0m\u001b[0;34m,\u001b[0m\u001b[0;34m\u001b[0m\u001b[0;34m\u001b[0m\u001b[0m\n",
      "\u001b[0;32m~/miniconda3/lib/python3.9/site-packages/xarray/core/combine.py\u001b[0m in \u001b[0;36mcombine_by_coords\u001b[0;34m(data_objects, compat, data_vars, coords, fill_value, join, combine_attrs, datasets)\u001b[0m\n\u001b[1;32m    896\u001b[0m         \u001b[0mconcatenated_grouped_by_data_vars\u001b[0m \u001b[0;34m=\u001b[0m \u001b[0;34m[\u001b[0m\u001b[0;34m]\u001b[0m\u001b[0;34m\u001b[0m\u001b[0;34m\u001b[0m\u001b[0m\n\u001b[1;32m    897\u001b[0m         \u001b[0;32mfor\u001b[0m \u001b[0mvars\u001b[0m\u001b[0;34m,\u001b[0m \u001b[0mdatasets_with_same_vars\u001b[0m \u001b[0;32min\u001b[0m \u001b[0mgrouped_by_vars\u001b[0m\u001b[0;34m:\u001b[0m\u001b[0;34m\u001b[0m\u001b[0;34m\u001b[0m\u001b[0m\n\u001b[0;32m--> 898\u001b[0;31m             concatenated = _combine_single_variable_hypercube(\n\u001b[0m\u001b[1;32m    899\u001b[0m                 \u001b[0mlist\u001b[0m\u001b[0;34m(\u001b[0m\u001b[0mdatasets_with_same_vars\u001b[0m\u001b[0;34m)\u001b[0m\u001b[0;34m,\u001b[0m\u001b[0;34m\u001b[0m\u001b[0;34m\u001b[0m\u001b[0m\n\u001b[1;32m    900\u001b[0m                 \u001b[0mfill_value\u001b[0m\u001b[0;34m=\u001b[0m\u001b[0mfill_value\u001b[0m\u001b[0;34m,\u001b[0m\u001b[0;34m\u001b[0m\u001b[0;34m\u001b[0m\u001b[0m\n",
      "\u001b[0;32m~/miniconda3/lib/python3.9/site-packages/xarray/core/combine.py\u001b[0m in \u001b[0;36m_combine_single_variable_hypercube\u001b[0;34m(datasets, fill_value, data_vars, coords, compat, join, combine_attrs)\u001b[0m\n\u001b[1;32m    602\u001b[0m         )\n\u001b[1;32m    603\u001b[0m \u001b[0;34m\u001b[0m\u001b[0m\n\u001b[0;32m--> 604\u001b[0;31m     \u001b[0mcombined_ids\u001b[0m\u001b[0;34m,\u001b[0m \u001b[0mconcat_dims\u001b[0m \u001b[0;34m=\u001b[0m \u001b[0m_infer_concat_order_from_coords\u001b[0m\u001b[0;34m(\u001b[0m\u001b[0mlist\u001b[0m\u001b[0;34m(\u001b[0m\u001b[0mdatasets\u001b[0m\u001b[0;34m)\u001b[0m\u001b[0;34m)\u001b[0m\u001b[0;34m\u001b[0m\u001b[0;34m\u001b[0m\u001b[0m\n\u001b[0m\u001b[1;32m    605\u001b[0m \u001b[0;34m\u001b[0m\u001b[0m\n\u001b[1;32m    606\u001b[0m     \u001b[0;32mif\u001b[0m \u001b[0mfill_value\u001b[0m \u001b[0;32mis\u001b[0m \u001b[0;32mNone\u001b[0m\u001b[0;34m:\u001b[0m\u001b[0;34m\u001b[0m\u001b[0;34m\u001b[0m\u001b[0m\n",
      "\u001b[0;32m~/miniconda3/lib/python3.9/site-packages/xarray/core/combine.py\u001b[0m in \u001b[0;36m_infer_concat_order_from_coords\u001b[0;34m(datasets)\u001b[0m\n\u001b[1;32m     73\u001b[0m             \u001b[0mindexes\u001b[0m \u001b[0;34m=\u001b[0m \u001b[0;34m[\u001b[0m\u001b[0mds\u001b[0m\u001b[0;34m.\u001b[0m\u001b[0mxindexes\u001b[0m\u001b[0;34m.\u001b[0m\u001b[0mget\u001b[0m\u001b[0;34m(\u001b[0m\u001b[0mdim\u001b[0m\u001b[0;34m)\u001b[0m \u001b[0;32mfor\u001b[0m \u001b[0mds\u001b[0m \u001b[0;32min\u001b[0m \u001b[0mdatasets\u001b[0m\u001b[0;34m]\u001b[0m\u001b[0;34m\u001b[0m\u001b[0;34m\u001b[0m\u001b[0m\n\u001b[1;32m     74\u001b[0m             \u001b[0;32mif\u001b[0m \u001b[0many\u001b[0m\u001b[0;34m(\u001b[0m\u001b[0mindex\u001b[0m \u001b[0;32mis\u001b[0m \u001b[0;32mNone\u001b[0m \u001b[0;32mfor\u001b[0m \u001b[0mindex\u001b[0m \u001b[0;32min\u001b[0m \u001b[0mindexes\u001b[0m\u001b[0;34m)\u001b[0m\u001b[0;34m:\u001b[0m\u001b[0;34m\u001b[0m\u001b[0;34m\u001b[0m\u001b[0m\n\u001b[0;32m---> 75\u001b[0;31m                 raise ValueError(\n\u001b[0m\u001b[1;32m     76\u001b[0m                     \u001b[0;34m\"Every dimension needs a coordinate for \"\u001b[0m\u001b[0;34m\u001b[0m\u001b[0;34m\u001b[0m\u001b[0m\n\u001b[1;32m     77\u001b[0m                     \u001b[0;34m\"inferring concatenation order\"\u001b[0m\u001b[0;34m\u001b[0m\u001b[0;34m\u001b[0m\u001b[0m\n",
      "\u001b[0;31mValueError\u001b[0m: Every dimension needs a coordinate for inferring concatenation order"
     ]
    }
   ],
   "source": [
    "start_time = timeit.default_timer()\n",
    "\n",
    "variables = [\n",
    "    'analysed_sst',\n",
    "    'mask'\n",
    "]\n",
    "\n",
    "# def subset(ds):\n",
    "#     subset_ds = ds[variables].sel(\n",
    "#         lat=slice(minlat, maxlat),   # Removing the variables selection uncovers accurate error message\n",
    "#         lon=slice(minlon, maxlon)\n",
    "#     )\n",
    "#     return subset_ds\n",
    "\n",
    "def subset(ds):\n",
    "    subset_ds = ds.sel(\n",
    "        lat=slice(minlat, maxlat),\n",
    "        lon=slice(minlon, maxlon)\n",
    "    )\n",
    "    return subset_ds\n",
    "\n",
    "mur_hawaii = xr.open_mfdataset(\n",
    "    paths=[zarr_fs.get_mapper(root=f, check=False) for f in zarr_urls],\n",
    "    preprocess=subset,\n",
    "#     combine='by_coords',\n",
    "    consolidated=False,\n",
    "#     mask_and_scale=True,\n",
    "#     decode_cf=True,\n",
    "#     cache=False,\n",
    "#     parallel=True,\n",
    "    engine='zarr'\n",
    ").chunk({\"time\": 30, \"lat\": 100, \"lon\": 100})\n",
    "\n",
    "elapsed = timeit.default_timer() - start_time\n",
    "print(elapsed)"
   ]
  },
  {
   "cell_type": "code",
   "execution_count": null,
   "metadata": {},
   "outputs": [],
   "source": [
    "print(mur_hawaii.tree())"
   ]
  },
  {
   "cell_type": "code",
   "execution_count": null,
   "metadata": {},
   "outputs": [],
   "source": [
    "print(mur_hawaii.analysed_sst.info)"
   ]
  },
  {
   "cell_type": "markdown",
   "metadata": {},
   "source": [
    "### Add in NAN Values for Land to MUR Data\n",
    "<br/>\n",
    "We use the mask dimension to replace temperature values from land observations with NaN so that they are not factored in to our calculations. The mask variable has a value for each coordinate pair representing which surface the temperature was collected from (land, open-sea, ice, etc.)."
   ]
  },
  {
   "cell_type": "code",
   "execution_count": null,
   "metadata": {},
   "outputs": [],
   "source": [
    "mur_hawaii_sst = mur_hawaii['analysed_sst'].where(mur_hawaii.mask == 1)"
   ]
  },
  {
   "cell_type": "markdown",
   "metadata": {},
   "source": [
    "### Convert Temperatures to Celsius\n",
    "<br/>\n",
    "The dataset is stored with temperatures measured in Kelvin. This converts it to Celsius for ease of understanding and analysis."
   ]
  },
  {
   "cell_type": "code",
   "execution_count": null,
   "metadata": {},
   "outputs": [],
   "source": [
    "mur_hawaii_sst = mur_hawaii_sst - 273.15"
   ]
  },
  {
   "cell_type": "code",
   "execution_count": null,
   "metadata": {},
   "outputs": [],
   "source": [
    "mur_hawaii_sst"
   ]
  },
  {
   "cell_type": "markdown",
   "metadata": {},
   "source": [
    "### Open MUR Climatology for Hawaii"
   ]
  },
  {
   "cell_type": "code",
   "execution_count": null,
   "metadata": {},
   "outputs": [],
   "source": [
    "mur_clim = xr.open_dataarray(\n",
    "    \"../data/MURClimatology.nc\",\n",
    "    chunks={\"time\": 30, \"lat\": 100, \"lon\": 100}\n",
    ")"
   ]
  },
  {
   "cell_type": "code",
   "execution_count": null,
   "metadata": {},
   "outputs": [],
   "source": [
    "mur_clim"
   ]
  },
  {
   "cell_type": "markdown",
   "metadata": {},
   "source": [
    "### Drop the Leap Day"
   ]
  },
  {
   "cell_type": "code",
   "execution_count": null,
   "metadata": {},
   "outputs": [],
   "source": [
    "mur_clim = mur_clim.where(mur_clim[\"time\"] != np.datetime64('2004-02-29T09:00:00', 'ns'), drop=True)"
   ]
  },
  {
   "cell_type": "markdown",
   "metadata": {},
   "source": [
    "### Create Subset Dataset"
   ]
  },
  {
   "cell_type": "code",
   "execution_count": null,
   "metadata": {},
   "outputs": [],
   "source": [
    "mur_clim_jan = mur_clim[0:20]"
   ]
  },
  {
   "cell_type": "code",
   "execution_count": null,
   "metadata": {},
   "outputs": [],
   "source": [
    "mur_clim_subset = mur_clim[212:]"
   ]
  },
  {
   "cell_type": "code",
   "execution_count": null,
   "metadata": {},
   "outputs": [],
   "source": [
    "mur_clim_subset = xr.concat([mur_clim_subset, mur_clim_jan], dim=\"time\")"
   ]
  },
  {
   "cell_type": "code",
   "execution_count": null,
   "metadata": {},
   "outputs": [],
   "source": [
    "mur_clim_subset = mur_clim_subset.assign_coords({\"time\": mur_hawaii_sst[\"time\"]})"
   ]
  },
  {
   "cell_type": "code",
   "execution_count": null,
   "metadata": {
    "scrolled": true
   },
   "outputs": [],
   "source": [
    "mur_clim_subset"
   ]
  },
  {
   "cell_type": "markdown",
   "metadata": {},
   "source": [
    "### Create SST Anomaly Dataset"
   ]
  },
  {
   "cell_type": "code",
   "execution_count": null,
   "metadata": {},
   "outputs": [],
   "source": [
    "sst_anomaly = mur_hawaii_sst - mur_clim_subset"
   ]
  },
  {
   "cell_type": "code",
   "execution_count": null,
   "metadata": {},
   "outputs": [],
   "source": [
    "sst_anomaly"
   ]
  },
  {
   "cell_type": "markdown",
   "metadata": {},
   "source": [
    "### Find Daily Average SST Anomaly for Time Series"
   ]
  },
  {
   "cell_type": "code",
   "execution_count": null,
   "metadata": {},
   "outputs": [],
   "source": [
    "sst_anomaly_mean_ts = sst_anomaly.mean(['lat', 'lon'])"
   ]
  },
  {
   "cell_type": "code",
   "execution_count": null,
   "metadata": {},
   "outputs": [],
   "source": [
    "sst_anomaly_mean_ts"
   ]
  },
  {
   "cell_type": "markdown",
   "metadata": {},
   "source": [
    "### Find Average SST Anomaly for Each Coordinate Pair for Spatial Plot"
   ]
  },
  {
   "cell_type": "code",
   "execution_count": null,
   "metadata": {},
   "outputs": [],
   "source": [
    "sst_anomaly_mean_sp = sst_anomaly.mean(['time'])"
   ]
  },
  {
   "cell_type": "code",
   "execution_count": null,
   "metadata": {},
   "outputs": [],
   "source": [
    "sst_anomaly_mean_sp"
   ]
  },
  {
   "cell_type": "markdown",
   "metadata": {},
   "source": [
    "## Regional Tests"
   ]
  },
  {
   "cell_type": "markdown",
   "metadata": {},
   "source": [
    "### Regional SST Anomaly Averaged Time Series, August 1st, 2019 - January 20th, 2020"
   ]
  },
  {
   "cell_type": "code",
   "execution_count": null,
   "metadata": {},
   "outputs": [],
   "source": [
    "start_time = timeit.default_timer()\n",
    "\n",
    "sst_anomaly_mean_ts.plot()\n",
    "\n",
    "elapsed = timeit.default_timer() - start_time\n",
    "print(elapsed)"
   ]
  },
  {
   "cell_type": "markdown",
   "metadata": {},
   "source": [
    "### Regional SST Anomaly Averaged Spatial Plot, August 1st, 2019 - January 20th, 2020"
   ]
  },
  {
   "cell_type": "code",
   "execution_count": null,
   "metadata": {},
   "outputs": [],
   "source": [
    "start_time = timeit.default_timer()\n",
    "\n",
    "sst_anomaly_mean_sp.plot()\n",
    "\n",
    "elapsed = timeit.default_timer() - start_time\n",
    "print(elapsed)"
   ]
  }
 ],
 "metadata": {
  "kernelspec": {
   "display_name": "Python 3",
   "language": "python",
   "name": "python3"
  },
  "language_info": {
   "codemirror_mode": {
    "name": "ipython",
    "version": 3
   },
   "file_extension": ".py",
   "mimetype": "text/x-python",
   "name": "python",
   "nbconvert_exporter": "python",
   "pygments_lexer": "ipython3",
   "version": "3.8.5"
  }
 },
 "nbformat": 4,
 "nbformat_minor": 4
}
